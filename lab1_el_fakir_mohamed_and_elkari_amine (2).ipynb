{
  "cells": [
    {
      "cell_type": "markdown",
      "metadata": {
        "id": "i9GySPJW6dTD"
      },
      "source": [
        "# Lab 1 : First order methods on regression models\n",
        "\n",
        "#### Authors: A. Gramfort, R. Gower, P. Ablin, M. Massias\n",
        "\n",
        "## Aim\n",
        "\n",
        "The aim of this material is to code \n",
        "- proximal gradient descent (PGD)\n",
        "- accelerated gradient descent (APGD) \n",
        "\n",
        "for \n",
        "- linear regression\n",
        "- logistic regression \n",
        "\n",
        "models.\n",
        "\n",
        "The proximal operators we will use are the \n",
        "- L2 penalization\n",
        "- L1 penalization\n",
        "\n",
        "## VERY IMPORTANT\n",
        "\n",
        "- This work **must be done by pairs of students**.\n",
        "- **Each** student must send their work using the **moodle platform**. Please check the deadline on moodle!\n",
        "- This means that **each student in the pair sends the same file**\n",
        "- The **name of the file must be** constructed as in the next cell\n",
        "\n",
        "# Gentle reminder: no evaluation if you don't respect this EXACTLY\n",
        "\n",
        "### How to construct the name of your file"
      ]
    },
    {
      "cell_type": "code",
      "execution_count": null,
      "metadata": {
        "tags": [],
        "id": "J1yuMyq06dTF",
        "colab": {
          "base_uri": "https://localhost:8080/"
        },
        "outputId": "8abbc913-cf7b-43b8-b769-7dcbedd9f4c4"
      },
      "outputs": [
        {
          "output_type": "stream",
          "name": "stdout",
          "text": [
            "lab1_el fakir_mohamed_and_elkari_amine.ipynb\n"
          ]
        }
      ],
      "source": [
        "# Change here using YOUR first and last names\n",
        "fn1 = \"Mohamed\"\n",
        "ln1 = \"EL FAKIR\"\n",
        "fn2 = \"Amine\"\n",
        "ln2 = \"ELKARI\"\n",
        "\n",
        "filename = \"_\".join(map(lambda s: s.strip().lower(), \n",
        "                        [\"lab1\", ln1, fn1, \"and\", ln2, fn2])) + \".ipynb\"\n",
        "print(filename)"
      ]
    },
    {
      "cell_type": "code",
      "execution_count": null,
      "metadata": {
        "id": "PPqzAtLh6dTG"
      },
      "outputs": [],
      "source": [
        "## to embed figures in the notebook\n",
        "%matplotlib inline"
      ]
    },
    {
      "cell_type": "markdown",
      "metadata": {
        "id": "FBRaRFjV6dTH"
      },
      "source": [
        "## Part 0 : Introduction\n",
        "\n",
        "We'll start by generating sparse vectors and simulating data\n",
        "\n",
        "### Getting sparse coefficients"
      ]
    },
    {
      "cell_type": "code",
      "execution_count": null,
      "metadata": {
        "id": "d63O6nU76dTH"
      },
      "outputs": [],
      "source": [
        "import numpy as np\n",
        "import matplotlib.pyplot as plt\n",
        "\n",
        "np.set_printoptions(precision=2)  # to have simpler print outputs with numpy"
      ]
    },
    {
      "cell_type": "code",
      "execution_count": null,
      "metadata": {
        "colab": {
          "base_uri": "https://localhost:8080/",
          "height": 353
        },
        "id": "oYcIVj7G6dTH",
        "outputId": "7cecdbd4-fbf5-41ac-f8af-73c70acadaf6"
      },
      "outputs": [
        {
          "output_type": "stream",
          "name": "stderr",
          "text": [
            "/usr/local/lib/python3.7/dist-packages/ipykernel_launcher.py:6: UserWarning: In Matplotlib 3.3 individual lines on a stem plot will be added as a LineCollection instead of individual lines. This significantly improves the performance of a stem plot. To remove this warning and switch to the new behaviour, set the \"use_line_collection\" keyword argument to True.\n",
            "  \n"
          ]
        },
        {
          "output_type": "execute_result",
          "data": {
            "text/plain": [
              "Text(0.5, 1.0, 'Parameters / Coefficients')"
            ]
          },
          "metadata": {},
          "execution_count": 3
        },
        {
          "output_type": "display_data",
          "data": {
            "text/plain": [
              "<Figure size 432x288 with 1 Axes>"
            ],
            "image/png": "[encoded data removed]"
          },
          "metadata": {
            "needs_background": "light"
          }
        }
      ],
      "source": [
        "n_features = 50\n",
        "n_samples = 1000\n",
        "idx = np.arange(n_features)\n",
        "coefs = ((-1) ** idx) * np.exp(-idx / 10.)\n",
        "coefs[20:] = 0.\n",
        "plt.stem(coefs)\n",
        "plt.title(\"Parameters / Coefficients\")"
      ]
    },
    {
      "cell_type": "markdown",
      "metadata": {
        "id": "-BbawdQ76dTH"
      },
      "source": [
        "### Functions for the simulation of the models"
      ]
    },
    {
      "cell_type": "code",
      "execution_count": null,
      "metadata": {
        "id": "-nQ9hXxl6dTI"
      },
      "outputs": [],
      "source": [
        "from numpy.random import multivariate_normal\n",
        "from scipy.linalg.special_matrices import toeplitz\n",
        "\n",
        "\n",
        "def simu_linreg(coefs, n_samples=1000, corr=0.5):\n",
        "    \"\"\"Simulation of a linear regression model\n",
        "    \n",
        "    Parameters\n",
        "    ----------\n",
        "    coefs : `numpy.array`, shape (n_features,)\n",
        "        Coefficients of the model\n",
        "    \n",
        "    n_samples : `int`, default=1000\n",
        "        Number of samples to simulate\n",
        "    \n",
        "    corr : `float`, default=0.5\n",
        "         Correlation between features i and j is corr^|i - j|\n",
        "\n",
        "\n",
        "    Returns\n",
        "    -------\n",
        "    A : `numpy.ndarray`, shape (n_samples, n_features)\n",
        "        Simulated features matrix. It samples of a centered Gaussian \n",
        "        vector with covariance given by the Toeplitz matrix\n",
        "    \n",
        "    b : `numpy.array`, shape (n_samples,)\n",
        "        Simulated labels\n",
        "    \"\"\"\n",
        "    # Construction of a covariance matrix\n",
        "    cov = toeplitz(corr ** np.arange(0, n_features))\n",
        "    # Simulation of features\n",
        "    A = multivariate_normal(np.zeros(n_features), cov, size=n_samples)\n",
        "    # Simulation of the labels\n",
        "    b = A.dot(coefs) + np.random.randn(n_samples)\n",
        "    return A, b\n",
        "\n",
        "\n",
        "def sigmoid(t):\n",
        "    \"\"\"Sigmoid function\"\"\"\n",
        "    return 1. / (1. + np.exp(-t))\n",
        "\n",
        "\n",
        "def simu_logreg(coefs, n_samples=1000, corr=0.5):\n",
        "    \"\"\"Simulation of a logistic regression model\n",
        "    \n",
        "    Parameters\n",
        "    ----------\n",
        "    coefs : `numpy.array`, shape (n_features,)\n",
        "        Coefficients of the model\n",
        "    \n",
        "    n_samples : `int`, default=1000\n",
        "        Number of samples to simulate\n",
        "    \n",
        "    corr : `float`, default=0.5\n",
        "        Correlation between features i and j is corr^|i - j|\n",
        "\n",
        "    Returns\n",
        "    -------\n",
        "    A : `numpy.ndarray`, shape (n_samples, n_features)\n",
        "        Simulated features matrix. It samples of a centered Gaussian \n",
        "        vector with covariance given by the Toeplitz matrix\n",
        "    \n",
        "    b : `numpy.array`, shape (n_samples,)\n",
        "        Simulated labels\n",
        "    \"\"\"\n",
        "    cov = toeplitz(corr ** np.arange(0, n_features))\n",
        "    A = multivariate_normal(np.zeros(n_features), cov, size=n_samples)\n",
        "    p = sigmoid(A.dot(coefs))\n",
        "    b = np.random.binomial(1, p, size=n_samples)\n",
        "    b = 2 * b - 1\n",
        "    return A, b"
      ]
    },
    {
      "cell_type": "markdown",
      "metadata": {
        "id": "QBlP0XzQ6dTJ"
      },
      "source": [
        "## Generate the data"
      ]
    },
    {
      "cell_type": "code",
      "execution_count": null,
      "metadata": {
        "id": "ymFDRbGC6dTJ"
      },
      "outputs": [],
      "source": [
        "A, b = simu_linreg(coefs)\n",
        "# A, b = simu_logreg(coefs)  # uncomment when you want to test logistic regression"
      ]
    },
    {
      "cell_type": "markdown",
      "metadata": {
        "id": "0jvqD24B6dTJ"
      },
      "source": [
        "## Part 1 : Proximal operators"
      ]
    },
    {
      "cell_type": "markdown",
      "metadata": {
        "id": "IUfi6-e66dTJ"
      },
      "source": [
        "We remind that the proximal operator of a function $R$ is given by:\n",
        "\n",
        "$$\n",
        "\\text{prox}_{(\\lambda \\,R)}(x) = \\arg\\min_z \\left\\{ \\frac{1}{2} \\Vert x - z\\Vert_2^2 + \\lambda \\,R(z) \\right\\}.\n",
        "$$\n",
        "\n",
        "\n",
        "We have in mind to use the following cases\n",
        "\n",
        "- L2 penalization, where $R(z) = \\frac{1}{2} \\|z\\|_2^2$\n",
        "- L1 penalization, where $R(z) =  \\|z|\\|_1$\n",
        "\n",
        "where $\\lambda > 0$ is a regularization parameter."
      ]
    },
    {
      "cell_type": "markdown",
      "metadata": {
        "id": "iumHbK4t6dTK"
      },
      "source": [
        "<div class=\"alert alert-success\">\n",
        "    <b>Questions</b>:\n",
        "     <ul>\n",
        "      <li>Code a function that computes $R(x)$ in both cases and $\\text{prox}_{\\lambda\\, R}(x)$ for L2 and  L1 penalization (use the slides of the first course to get the formulas), using the prototypes given below</li>\n",
        "      <li>Visualize the functions applied element wise by the proximity operators of the L2 and L1 \n",
        "    </li>\n",
        "    </ul>\n",
        "</div>"
      ]
    },
    {
      "cell_type": "code",
      "execution_count": null,
      "metadata": {
        "id": "6pku6AuU6dTK"
      },
      "outputs": [],
      "source": [
        "\n",
        "def prox_L1(x, lmbd):\n",
        "    \"\"\"Proximal operator for the L1 at x\"\"\" \n",
        "    return np.sign(x)*np.maximum(np.abs(x)-lmbd, 0.)       # (x>lmbd)*(x-lmbd) + (x<-lmbd)*(x+lmbd)\n",
        "    \n",
        "def L1_norm(x, lmbd):\n",
        "    \"\"\"Value of the L1 penalization at x\"\"\"\n",
        "    x=np.sum(abs(x))\n",
        "    return lmbd*x \n",
        "\n",
        "def prox_L2(x, lmbd):\n",
        "    \"\"\"Proximal operator for the L2 at x\"\"\"    \n",
        "    return x/(1+lmbd) \n",
        "    \n",
        "def L2_norm(x, lmbd):\n",
        "    \"\"\"Value of the L2 penalization at x\"\"\"\n",
        "    x=(lmbd/2)*np.sum(x.T*x)\n",
        "    return lmbd*x "
      ]
    },
    {
      "cell_type": "code",
      "source": [
        "x=np.random.randn(10)\n",
        "prox_L2(x,0.5)"
      ],
      "metadata": {
        "colab": {
          "base_uri": "https://localhost:8080/"
        },
        "id": "wqN-KniXLqPP",
        "outputId": "4ba19f7b-8c64-449b-de74-6384ed443ffc"
      },
      "execution_count": null,
      "outputs": [
        {
          "output_type": "execute_result",
          "data": {
            "text/plain": [
              "array([-0.65, -0.76,  0.54, -0.08, -0.21, -0.17, -0.32,  0.21, -0.54,\n",
              "        0.22])"
            ]
          },
          "metadata": {},
          "execution_count": 7
        }
      ]
    },
    {
      "cell_type": "markdown",
      "metadata": {
        "id": "rby69byY6dTK"
      },
      "source": [
        "## Visualization\n",
        "\n",
        "We are now going to visualize the effect of the proximity operators on coefficients."
      ]
    },
    {
      "cell_type": "code",
      "execution_count": null,
      "metadata": {
        "colab": {
          "base_uri": "https://localhost:8080/",
          "height": 424
        },
        "id": "MakHlzrD6dTK",
        "outputId": "ec4b3b59-64db-4e7b-ae51-f5c5e6371102"
      },
      "outputs": [
        {
          "output_type": "stream",
          "name": "stderr",
          "text": [
            "/usr/local/lib/python3.7/dist-packages/ipykernel_launcher.py:7: UserWarning: In Matplotlib 3.3 individual lines on a stem plot will be added as a LineCollection instead of individual lines. This significantly improves the performance of a stem plot. To remove this warning and switch to the new behaviour, set the \"use_line_collection\" keyword argument to True.\n",
            "  import sys\n",
            "/usr/local/lib/python3.7/dist-packages/ipykernel_launcher.py:11: UserWarning: In Matplotlib 3.3 individual lines on a stem plot will be added as a LineCollection instead of individual lines. This significantly improves the performance of a stem plot. To remove this warning and switch to the new behaviour, set the \"use_line_collection\" keyword argument to True.\n",
            "  # This is added back by InteractiveShellApp.init_path()\n",
            "/usr/local/lib/python3.7/dist-packages/ipykernel_launcher.py:15: UserWarning: In Matplotlib 3.3 individual lines on a stem plot will be added as a LineCollection instead of individual lines. This significantly improves the performance of a stem plot. To remove this warning and switch to the new behaviour, set the \"use_line_collection\" keyword argument to True.\n",
            "  from ipykernel import kernelapp as app\n"
          ]
        },
        {
          "output_type": "execute_result",
          "data": {
            "text/plain": [
              "(-2.0, 2.0)"
            ]
          },
          "metadata": {},
          "execution_count": 8
        },
        {
          "output_type": "display_data",
          "data": {
            "text/plain": [
              "<Figure size 1080x288 with 3 Axes>"
            ],
            "image/png": "[encoded data removed]"
          },
          "metadata": {
            "needs_background": "light"
          }
        }
      ],
      "source": [
        "x = np.random.randn(50)\n",
        "l_l1 = 1.\n",
        "l_l2 = 0.5\n",
        "\n",
        "plt.figure(figsize=(15.0, 4.0))\n",
        "plt.subplot(1, 3, 1)\n",
        "plt.stem(x)\n",
        "plt.title(\"Original parameter\", fontsize=16)\n",
        "plt.ylim([-2, 2])\n",
        "plt.subplot(1, 3, 2)\n",
        "plt.stem(prox_L1(x, lmbd=l_l1))\n",
        "plt.title(\"Proximal L1\", fontsize=16)\n",
        "plt.ylim([-2, 2])\n",
        "plt.subplot(1, 3, 3)\n",
        "plt.stem(prox_L2(x, lmbd=l_l2))\n",
        "plt.title(\"Proximal L2\", fontsize=16)\n",
        "plt.ylim([-2, 2])"
      ]
    },
    {
      "cell_type": "markdown",
      "metadata": {
        "id": "8iqB8AAb6dTK"
      },
      "source": [
        "<div class=\"alert alert-success\">\n",
        "    <b>Question</b>:\n",
        "     <ul>\n",
        "      <li>Comment what you observe (1 or 2 sentences).</li>\n",
        "    </ul>\n",
        "</div>"
      ]
    },
    {
      "cell_type": "markdown",
      "source": [
        "We can see that the L1 norm penalizes a set of parameters and assigns 0 values to the weights instead of imposing small values as the L2 norm does to the different weights. Consequently, in the case of L1, the problem becomes of very small dimensionality."
      ],
      "metadata": {
        "id": "cd4azxPVMHpU"
      }
    },
    {
      "cell_type": "markdown",
      "metadata": {
        "id": "BmRYNHhg6dTL"
      },
      "source": []
    },
    {
      "cell_type": "markdown",
      "metadata": {
        "id": "YH9RgcIh6dTL"
      },
      "source": [
        "## Part 2: Gradients\n",
        "\n",
        "The problems we want to minimize take the form:\n",
        "$$\n",
        "\\arg\\min_x f(x) + \\lambda \\,R(x)\n",
        "$$\n",
        "where $f$ is $L$-smooth and $R$ has a simple proximal operator.\n",
        "\n",
        "Consider the following cases:\n",
        "\n",
        "**Linear regression**, where \n",
        "$$\n",
        "f(x) = \\frac{1}{2n} \\sum_{i=1}^n (b_i - a_i^\\top x)^2 = \\frac{1}{2 n} \\| b - A x \\|_2^2,\n",
        "$$\n",
        "where $n$ is the sample size, $b = [b_1 \\cdots b_n]$ is the vector of labels and $A = [a_1,\\ldots, a_n]^{\\top} \\in \\mathbb{R}^{n \\times d}$ is the matrix of samples.\n",
        "\n",
        "**Logistic regression**, where\n",
        "$$\n",
        "f(x) = \\frac{1}{n} \\sum_{i=1}^n \\log(1 + \\exp(-b_i a_i^\\top x)),\n",
        "$$\n",
        "where $n$ is the sample size, and where labels $b_i \\in \\{ -1, 1 \\}$ for all $i$.\n",
        "\n",
        "We need to be able to compute $f$ and its gradient"
      ]
    },
    {
      "cell_type": "markdown",
      "metadata": {
        "id": "Xdaw6iq66dTL"
      },
      "source": [
        "<div class=\"alert alert-success\">\n",
        "    <b>Questions</b>:\n",
        "     <ul>\n",
        "      <li>Compute on paper the gradient $\\nabla f$ of $f$ for both cases (linear and logistic regression)</li>\n",
        "      <li>Code a function that computes $f$ and its gradient $\\nabla f$ in both cases, using the prototypes below.</li>\n",
        "      <li>Check that these functions are correct by numerically checking the gradient, using the function ``<a href=\"https://docs.scipy.org/doc/scipy/reference/generated/scipy.optimize.check_grad.html\">check_grad</a>`` from ``scipy.optimize``. Remark: use the functions `simu_linreg` and `simu_logreg` to simulate data according to the right model</li>\n",
        "    </ul>\n",
        "</div>"
      ]
    },
    {
      "cell_type": "code",
      "source": [
        "A1,b1 = simu_logreg(coefs, n_samples=1000, corr=0.5)\n",
        "A0,b0 = simu_linreg(coefs, n_samples=1000, corr=0.5)"
      ],
      "metadata": {
        "id": "32ceMvDNfVmC"
      },
      "execution_count": null,
      "outputs": []
    },
    {
      "cell_type": "code",
      "execution_count": null,
      "metadata": {
        "id": "EMPHhPR36dTL"
      },
      "outputs": [],
      "source": [
        "n0= len(b0)\n",
        "n1= len(b1)\n",
        "\n",
        "def loss_linreg(x):\n",
        "    \"\"\"Least-squares loss\"\"\"\n",
        "    # TODO\n",
        "    f = (1/(2*n0))*np.sum((b0-A0.dot(x).T)@(b0-A0.dot(x)))\n",
        "    return f\n",
        "\n",
        "def grad_linreg(x):\n",
        "    \"\"\"Leas-squares gradient\"\"\"\n",
        "    # TODO\n",
        "    #grd = -(1/len(x))*A0.T@(b0-A0@x)\n",
        "    return (-1/n0) * A0.T@(b0 - np.dot(A0,x))\n",
        "\n",
        "def loss_logreg(x):\n",
        "    \"\"\"Logistic loss\"\"\"\n",
        "    # TODO\n",
        "    f=0\n",
        "    for i in range(len(x)):\n",
        "      f += np.log(1+np.exp(-b1[i]*A1[i]@x))*(1/n1)\n",
        "    return f\n",
        "\n",
        "def grad_logreg(x):\n",
        "    \"\"\"Logistic gradient\"\"\"\n",
        "    # TODO\n",
        "    grd= 0\n",
        "    for i in range(len(x)):\n",
        "      grd += ((b1[i]*A1[i])/(1+np.exp(b1[i]*(A1[i].T@x))))*(-1/n1) # grd -= (b1[i]/(1+np.exp(b1[i]*A1[i].T@x)))*A[i]*(1/len(x)) 'old one'\n",
        "    return np.array(grd)\n",
        "\n",
        "# TO BE COMPLETED"
      ]
    },
    {
      "cell_type": "code",
      "source": [
        "from scipy.optimize import check_grad\n",
        "x=np.random.randn(50)\n",
        "\n",
        "print(check_grad(loss_linreg, grad_linreg,np.array(x)),check_grad(loss_logreg, grad_logreg, np.array(x)))"
      ],
      "metadata": {
        "colab": {
          "base_uri": "https://localhost:8080/"
        },
        "id": "UfYycgYMbSpL",
        "outputId": "1238dd14-a7f3-4279-9068-8a0606790b82"
      },
      "execution_count": null,
      "outputs": [
        {
          "output_type": "stream",
          "name": "stdout",
          "text": [
            "1.601118045894952e-06 1.4174101534347043e-08\n"
          ]
        }
      ]
    },
    {
      "cell_type": "markdown",
      "metadata": {
        "id": "dPqHw1xn6dTM"
      },
      "source": [
        "## Part 3: Solvers"
      ]
    },
    {
      "cell_type": "markdown",
      "metadata": {
        "id": "QrIfH90T6dTM"
      },
      "source": [
        "We know have a function to compute $f$, $\\nabla f$ and $R$ and $\\text{prox}_R$. \n",
        "\n",
        "We want now to code the PGD and APGD solvers to minimize\n",
        "\n",
        "$$\n",
        "\\arg\\min_x f(x) + \\lambda \\, R(x)\n",
        "$$\n",
        "\n",
        "where $\\lambda >0$ is the regularization parameter"
      ]
    },
    {
      "cell_type": "markdown",
      "metadata": {
        "id": "7OxveiZU6dTM"
      },
      "source": [
        "<div class=\"alert alert-success\">\n",
        "    <b>Questions</b>:\n",
        "     <ul>\n",
        "      <li>Implement functions that compute the Lipschitz constants for linear and \n",
        "  logistic regression losses. Note that the operator norm of a matrix can \n",
        "  be computed using the function <a href=\"https://docs.scipy.org/doc/numpy/reference/generated/numpy.linalg.norm.html\">numpy.linalg.norm</a> (read the documentation\n",
        "  of the function)</li>\n",
        "      <li>Finish the functions `PGD` and `APGD` below that implements the \n",
        "  PGD(Proximal Gradient Descent) and APGD (Accelerated Proximal \n",
        "  Gradient Descent) algorithms</li>\n",
        "    </ul>\n",
        "</div>"
      ]
    },
    {
      "cell_type": "code",
      "execution_count": null,
      "metadata": {
        "id": "UNag6Ly26dTM"
      },
      "outputs": [],
      "source": [
        "# TO BE COMPLETED\n",
        "\n",
        "from numpy.linalg import norm\n",
        "# Calculate the smoothness constant for L2 + L2 regularizor\n",
        "def smoothness_const_linreg(A):\n",
        "    \"\"\"Lipschitz constant for linear squares loss\"\"\"    \n",
        "    return np.linalg.norm(A.T@A, ord = 2)*1/len(A)\n",
        "\n",
        "# Calculate the smoothness constant for Logistic loss + L2 regularizor    \n",
        "def smoothness_const_loreg(A):\n",
        "    \"\"\"Lipschitz constant for logistic loss\"\"\"    \n",
        "    return np.linalg.norm(A.T@A, ord = 2)*(1/4)*(1/len(A))\n",
        "    \n",
        "def PGD(x0, f, grad_f, R, prox_R, step, lmbd=0., n_iter=50,\n",
        "         x_true=coefs, verbose=True):\n",
        "    \"\"\"Proximal gradient descent algorithm\n",
        "    \"\"\"\n",
        "    x = x0.copy()\n",
        "    x_new = x0.copy()\n",
        "    n_samples, n_features = A.shape\n",
        "\n",
        "    # estimation error history\n",
        "    errors = []\n",
        "    # objective history\n",
        "    objectives = []\n",
        "    # Current estimation error\n",
        "    err = norm(x - x_true) / norm(x_true)\n",
        "    errors.append(err)\n",
        "    # Current objective\n",
        "    obj = f(x) + R(x, lmbd)\n",
        "    objectives.append(obj)\n",
        "    if verbose:\n",
        "        print(\"Lauching PGDsolver...\")\n",
        "        print(' | '.join([name.center(8) for name in [\"it\", \"obj\", \"err\"]]))\n",
        "    for k in range(n_iter + 1):\n",
        "\n",
        "        #### TODO ####     \n",
        "        x = prox_R(x - step*grad_f(x), lmbd)\n",
        "        obj = f(x) + R(x, lmbd)\n",
        "        err = norm(x - x_true) / norm(x_true)\n",
        "        errors.append(err)\n",
        "        objectives.append(obj)\n",
        "        if k % 10 == 0 and verbose:\n",
        "            print(' | '.join([(\"%d\" % k).rjust(8), \n",
        "                              (\"%.2e\" % obj).rjust(8), \n",
        "                              (\"%.2e\" % err).rjust(8)]))\n",
        "    return x, objectives, errors"
      ]
    },
    {
      "cell_type": "code",
      "execution_count": null,
      "metadata": {
        "id": "eAMHrig66dTM"
      },
      "outputs": [],
      "source": [
        "# TO BE COMPLETED\n",
        "\n",
        "def APGD(x0, f, grad_f, R, prox_R, step, lmbd=0., n_iter=50,\n",
        "         x_true=coefs, verbose=True):\n",
        "    \"\"\"Accelerated Proximal gradient descent algorithm\n",
        "    \"\"\"\n",
        "    x = x0.copy()\n",
        "    x_new = x0.copy()\n",
        "    # An extra variable is required for APGD\n",
        "    z = x0.copy()\n",
        "    n_samples, n_features = A.shape\n",
        "    # estimation error history\n",
        "    errors = []\n",
        "    # objective history\n",
        "    objectives = []\n",
        "    # Current estimation error\n",
        "    err = norm(x - x_true) / norm(x_true)\n",
        "    errors.append(err)\n",
        "    # Current objective\n",
        "    obj = f(x) + R(x, lmbd)\n",
        "    objectives.append(obj)\n",
        "    t = 1.\n",
        "    t_new = 1.   \n",
        "    beta = 1\n",
        "    z = x0.copy()\n",
        "    if verbose:\n",
        "        print(\"Lauching APGD solver...\")\n",
        "        print(' | '.join([name.center(8) for name in [\"it\", \"obj\", \"err\"]]))\n",
        "    for k in range(n_iter + 1):\n",
        "        #### TODO ####\n",
        "        x_new = prox_R(z - step*grad_f(z), lmbd)\n",
        "        beta_new = 1 + np.sqrt(1+4*(beta**2))*(1/2)\n",
        "        z_new = x_new + ((beta-1)/beta_new)*(x_new - x)\n",
        "        x = x_new\n",
        "        beta = beta_new\n",
        "        z = z_new\n",
        "        obj = f(x) + R(x, lmbd)\n",
        "        err = norm(x - x_true) / norm(x_true)\n",
        "        errors.append(err)\n",
        "        objectives.append(obj)\n",
        "        if k % 10 == 0 and verbose:\n",
        "            print(' | '.join([(\"%d\" % k).rjust(8), \n",
        "                              (\"%.2e\" % obj).rjust(8), \n",
        "                              (\"%.2e\" % err).rjust(8)]))\n",
        "    return x, np.array(objectives), np.array(errors)"
      ]
    },
    {
      "cell_type": "markdown",
      "metadata": {
        "id": "fuiXr_Tp6dTN"
      },
      "source": [
        "## Algorithms comparison and numerical experiments"
      ]
    },
    {
      "cell_type": "code",
      "execution_count": null,
      "metadata": {
        "id": "unPeIJYg6dTN"
      },
      "outputs": [],
      "source": [
        "# Some definitions before launching the algorithms\n",
        "x0 = np.zeros(n_features)\n",
        "n_iter = 200\n",
        "lmbd = 1e-2"
      ]
    },
    {
      "cell_type": "markdown",
      "metadata": {
        "id": "HhEjU7r86dTN"
      },
      "source": [
        "<div class=\"alert alert-success\">\n",
        "    <b>Questions</b>:\n",
        "     <ul>\n",
        "      <li>Compute a precise minimum and a precise minimizer of the linear regression with L2 \n",
        "  penalization problem using the parameters give above. This can be done by using APGD with \n",
        "  1000 iterations.</li>\n",
        "    <li>Compare the convergences of PGD and APGD, in terms of distance to the minimum and \n",
        "  distance to the minimizer. Do your plots using a logarithmic scale of the y-axis.</li>\n",
        "    </ul>\n",
        "</div>"
      ]
    },
    {
      "cell_type": "markdown",
      "source": [
        "<div class=\"alert alert-success\">\n",
        "    <b>Answer</b>:\n",
        "     <ul> 1. Compute a precise minimum and a precise minimizer of the linear regression with L2 penalization problem using the parameters give above. This can be done by using APGD with 1000 iterations.</ul>\n",
        "</div>"
      ],
      "metadata": {
        "id": "AYcZwMoY99D2"
      }
    },
    {
      "cell_type": "code",
      "execution_count": null,
      "metadata": {
        "id": "PARCoMc-6dTN",
        "colab": {
          "base_uri": "https://localhost:8080/"
        },
        "outputId": "2a2a5741-5dd6-4be1-8ca3-d9ec9e9a17cc"
      },
      "outputs": [
        {
          "output_type": "stream",
          "name": "stdout",
          "text": [
            "Lauching APGD solver...\n",
            "   it    |   obj    |   err   \n",
            "       0 | 1.19e+00 | 8.87e-01\n",
            "      10 | 4.56e-01 | 1.14e-01\n",
            "      20 | 4.65e-01 | 1.51e-01\n",
            "      30 | 4.60e-01 | 1.34e-01\n",
            "      40 | 4.62e-01 | 1.39e-01\n",
            "      50 | 4.61e-01 | 1.37e-01\n",
            "      60 | 4.62e-01 | 1.38e-01\n",
            "      70 | 4.62e-01 | 1.38e-01\n",
            "      80 | 4.62e-01 | 1.38e-01\n",
            "      90 | 4.62e-01 | 1.38e-01\n",
            "     100 | 4.62e-01 | 1.38e-01\n",
            "     110 | 4.62e-01 | 1.38e-01\n",
            "     120 | 4.62e-01 | 1.38e-01\n",
            "     130 | 4.62e-01 | 1.38e-01\n",
            "     140 | 4.62e-01 | 1.38e-01\n",
            "     150 | 4.62e-01 | 1.38e-01\n",
            "     160 | 4.62e-01 | 1.38e-01\n",
            "     170 | 4.62e-01 | 1.38e-01\n",
            "     180 | 4.62e-01 | 1.38e-01\n",
            "     190 | 4.62e-01 | 1.38e-01\n",
            "     200 | 4.62e-01 | 1.38e-01\n",
            "     210 | 4.62e-01 | 1.38e-01\n",
            "     220 | 4.62e-01 | 1.38e-01\n",
            "     230 | 4.62e-01 | 1.38e-01\n",
            "     240 | 4.62e-01 | 1.38e-01\n",
            "     250 | 4.62e-01 | 1.38e-01\n",
            "     260 | 4.62e-01 | 1.38e-01\n",
            "     270 | 4.62e-01 | 1.38e-01\n",
            "     280 | 4.62e-01 | 1.38e-01\n",
            "     290 | 4.62e-01 | 1.38e-01\n",
            "     300 | 4.62e-01 | 1.38e-01\n",
            "     310 | 4.62e-01 | 1.38e-01\n",
            "     320 | 4.62e-01 | 1.38e-01\n",
            "     330 | 4.62e-01 | 1.38e-01\n",
            "     340 | 4.62e-01 | 1.38e-01\n",
            "     350 | 4.62e-01 | 1.38e-01\n",
            "     360 | 4.62e-01 | 1.38e-01\n",
            "     370 | 4.62e-01 | 1.38e-01\n",
            "     380 | 4.62e-01 | 1.38e-01\n",
            "     390 | 4.62e-01 | 1.38e-01\n",
            "     400 | 4.62e-01 | 1.38e-01\n",
            "     410 | 4.62e-01 | 1.38e-01\n",
            "     420 | 4.62e-01 | 1.38e-01\n",
            "     430 | 4.62e-01 | 1.38e-01\n",
            "     440 | 4.62e-01 | 1.38e-01\n",
            "     450 | 4.62e-01 | 1.38e-01\n",
            "     460 | 4.62e-01 | 1.38e-01\n",
            "     470 | 4.62e-01 | 1.38e-01\n",
            "     480 | 4.62e-01 | 1.38e-01\n",
            "     490 | 4.62e-01 | 1.38e-01\n",
            "     500 | 4.62e-01 | 1.38e-01\n",
            "     510 | 4.62e-01 | 1.38e-01\n",
            "     520 | 4.62e-01 | 1.38e-01\n",
            "     530 | 4.62e-01 | 1.38e-01\n",
            "     540 | 4.62e-01 | 1.38e-01\n",
            "     550 | 4.62e-01 | 1.38e-01\n",
            "     560 | 4.62e-01 | 1.38e-01\n",
            "     570 | 4.62e-01 | 1.38e-01\n",
            "     580 | 4.62e-01 | 1.38e-01\n",
            "     590 | 4.62e-01 | 1.38e-01\n",
            "     600 | 4.62e-01 | 1.38e-01\n",
            "     610 | 4.62e-01 | 1.38e-01\n",
            "     620 | 4.62e-01 | 1.38e-01\n",
            "     630 | 4.62e-01 | 1.38e-01\n",
            "     640 | 4.62e-01 | 1.38e-01\n",
            "     650 | 4.62e-01 | 1.38e-01\n",
            "     660 | 4.62e-01 | 1.38e-01\n",
            "     670 | 4.62e-01 | 1.38e-01\n",
            "     680 | 4.62e-01 | 1.38e-01\n",
            "     690 | 4.62e-01 | 1.38e-01\n",
            "     700 | 4.62e-01 | 1.38e-01\n",
            "     710 | 4.62e-01 | 1.38e-01\n",
            "     720 | 4.62e-01 | 1.38e-01\n",
            "     730 | 4.62e-01 | 1.38e-01\n",
            "     740 | 4.62e-01 | 1.38e-01\n",
            "     750 | 4.62e-01 | 1.38e-01\n",
            "     760 | 4.62e-01 | 1.38e-01\n",
            "     770 | 4.62e-01 | 1.38e-01\n",
            "     780 | 4.62e-01 | 1.38e-01\n",
            "     790 | 4.62e-01 | 1.38e-01\n",
            "     800 | 4.62e-01 | 1.38e-01\n",
            "     810 | 4.62e-01 | 1.38e-01\n",
            "     820 | 4.62e-01 | 1.38e-01\n",
            "     830 | 4.62e-01 | 1.38e-01\n",
            "     840 | 4.62e-01 | 1.38e-01\n",
            "     850 | 4.62e-01 | 1.38e-01\n",
            "     860 | 4.62e-01 | 1.38e-01\n",
            "     870 | 4.62e-01 | 1.38e-01\n",
            "     880 | 4.62e-01 | 1.38e-01\n",
            "     890 | 4.62e-01 | 1.38e-01\n",
            "     900 | 4.62e-01 | 1.38e-01\n",
            "     910 | 4.62e-01 | 1.38e-01\n",
            "     920 | 4.62e-01 | 1.38e-01\n",
            "     930 | 4.62e-01 | 1.38e-01\n",
            "     940 | 4.62e-01 | 1.38e-01\n",
            "     950 | 4.62e-01 | 1.38e-01\n",
            "     960 | 4.62e-01 | 1.38e-01\n",
            "     970 | 4.62e-01 | 1.38e-01\n",
            "     980 | 4.62e-01 | 1.38e-01\n",
            "     990 | 4.62e-01 | 1.38e-01\n",
            "    1000 | 4.62e-01 | 1.38e-01\n",
            "Minimizer :  [ 9.51e-01 -8.48e-01  7.71e-01 -6.40e-01  5.90e-01 -4.84e-01  5.18e-01\n",
            " -4.88e-01  3.47e-01 -3.36e-01  3.48e-01 -2.28e-01  3.07e-01 -2.79e-01\n",
            "  1.64e-01 -2.00e-01  2.45e-01 -1.50e-01  1.48e-01 -1.91e-01 -7.85e-03\n",
            "  1.44e-02 -3.32e-02  2.92e-04 -6.56e-03  1.64e-02 -2.22e-04  4.26e-03\n",
            " -1.96e-02 -5.10e-03 -2.07e-03  2.06e-02 -1.35e-02  9.20e-03 -4.93e-03\n",
            " -5.11e-03  2.08e-02  9.20e-03 -2.57e-02  3.65e-02 -4.70e-02  4.06e-02\n",
            " -5.76e-02  4.45e-02 -7.50e-02  7.68e-03 -2.39e-02 -2.58e-02 -5.80e-03\n",
            "  3.91e-02] \n",
            " Minimum :  0.4615385206575226\n"
          ]
        }
      ],
      "source": [
        "#Simulation for linear regression\n",
        "\n",
        "L = smoothness_const_linreg(A0)\n",
        "\n",
        "#Applying APGD Algorithm\n",
        "x_m, obj_m, err_t = APGD(x0, loss_linreg, grad_linreg, L2_norm, prox_L2, 1/L, lmbd=lmbd, n_iter =1000,x_true=coefs, verbose=True)\n",
        "\n",
        "#Minimum and minimizer :\n",
        "minimizer = x_m\n",
        "minimum = obj_m[-1]\n",
        "print(\"Minimizer : \",minimizer,'\\n','Minimum : ' ,minimum)"
      ]
    },
    {
      "cell_type": "markdown",
      "source": [
        "<div class=\"alert alert-success\">\n",
        "    <b>Answer</b>:\n",
        "     <ul> 2. Compare the convergences of PGD and APGD, in terms of distance to the minimum and distance to the minimizer. Do your plots using a logarithmic scale of the y-axis.\n",
        "    </ul>\n",
        "</div>"
      ],
      "metadata": {
        "id": "Qu2neaCH9_52"
      }
    },
    {
      "cell_type": "markdown",
      "source": [
        "**The distance with the minimizer is given by the error**"
      ],
      "metadata": {
        "id": "d1EEamTsOcWF"
      }
    },
    {
      "cell_type": "code",
      "source": [
        "pgd = PGD(x0, loss_linreg, grad_linreg, L2_norm, prox_L2, 1/L, lmbd=lmbd, n_iter = n_iter,x_true=coefs, verbose=True)\n",
        "apgd = APGD(x0, loss_linreg, grad_linreg, L2_norm, prox_L2, 1/L, lmbd=lmbd, n_iter = n_iter,x_true=coefs, verbose=True)\n",
        "\n",
        "fig = plt.figure(figsize=(8,12))\n",
        "ax = fig.add_subplot(2, 1, 1)\n",
        "ax.plot(pgd[2],label = \"PGD\")\n",
        "ax.plot(apgd[2],label = \"APGD\")\n",
        "ax.set_yscale('log')\n",
        "plt.legend()\n",
        "plt.xlabel(\"Iterations\")\n",
        "plt.ylabel(\"Error (in log scale)\")\n",
        "plt.title(\"Comparison of APGD and PGD in term of distance to the minimizer\")\n",
        "plt.show()"
      ],
      "metadata": {
        "colab": {
          "base_uri": "https://localhost:8080/",
          "height": 1000
        },
        "id": "5T7zZqkc9--N",
        "outputId": "db7b739d-7ffd-4410-f717-68d7aff07a31"
      },
      "execution_count": null,
      "outputs": [
        {
          "output_type": "stream",
          "name": "stdout",
          "text": [
            "Lauching PGDsolver...\n",
            "   it    |   obj    |   err   \n",
            "       0 | 1.19e+00 | 8.87e-01\n",
            "      10 | 5.49e-01 | 3.54e-01\n",
            "      20 | 4.79e-01 | 2.04e-01\n",
            "      30 | 4.66e-01 | 1.59e-01\n",
            "      40 | 4.63e-01 | 1.45e-01\n",
            "      50 | 4.62e-01 | 1.40e-01\n",
            "      60 | 4.62e-01 | 1.39e-01\n",
            "      70 | 4.62e-01 | 1.38e-01\n",
            "      80 | 4.62e-01 | 1.38e-01\n",
            "      90 | 4.62e-01 | 1.38e-01\n",
            "     100 | 4.62e-01 | 1.38e-01\n",
            "     110 | 4.62e-01 | 1.38e-01\n",
            "     120 | 4.62e-01 | 1.38e-01\n",
            "     130 | 4.62e-01 | 1.38e-01\n",
            "     140 | 4.62e-01 | 1.38e-01\n",
            "     150 | 4.62e-01 | 1.38e-01\n",
            "     160 | 4.62e-01 | 1.38e-01\n",
            "     170 | 4.62e-01 | 1.38e-01\n",
            "     180 | 4.62e-01 | 1.38e-01\n",
            "     190 | 4.62e-01 | 1.38e-01\n",
            "     200 | 4.62e-01 | 1.38e-01\n",
            "Lauching APGD solver...\n",
            "   it    |   obj    |   err   \n",
            "       0 | 1.19e+00 | 8.87e-01\n",
            "      10 | 4.56e-01 | 1.14e-01\n",
            "      20 | 4.65e-01 | 1.51e-01\n",
            "      30 | 4.60e-01 | 1.34e-01\n",
            "      40 | 4.62e-01 | 1.39e-01\n",
            "      50 | 4.61e-01 | 1.37e-01\n",
            "      60 | 4.62e-01 | 1.38e-01\n",
            "      70 | 4.62e-01 | 1.38e-01\n",
            "      80 | 4.62e-01 | 1.38e-01\n",
            "      90 | 4.62e-01 | 1.38e-01\n",
            "     100 | 4.62e-01 | 1.38e-01\n",
            "     110 | 4.62e-01 | 1.38e-01\n",
            "     120 | 4.62e-01 | 1.38e-01\n",
            "     130 | 4.62e-01 | 1.38e-01\n",
            "     140 | 4.62e-01 | 1.38e-01\n",
            "     150 | 4.62e-01 | 1.38e-01\n",
            "     160 | 4.62e-01 | 1.38e-01\n",
            "     170 | 4.62e-01 | 1.38e-01\n",
            "     180 | 4.62e-01 | 1.38e-01\n",
            "     190 | 4.62e-01 | 1.38e-01\n",
            "     200 | 4.62e-01 | 1.38e-01\n"
          ]
        },
        {
          "output_type": "display_data",
          "data": {
            "text/plain": [
              "<Figure size 576x864 with 1 Axes>"
            ],
            "image/png": "[encoded data removed]"
          },
          "metadata": {
            "needs_background": "light"
          }
        }
      ]
    },
    {
      "cell_type": "markdown",
      "source": [
        "Conclusion : We can observe as expected that the APGD algorithm converges faster in term of distance to the minimizer."
      ],
      "metadata": {
        "id": "9QJmuF3uVw9c"
      }
    },
    {
      "cell_type": "markdown",
      "source": [
        "**The distance to the minimum is given by comparing the true minimum (by using the coefficients in our loss function f(coeffs)) with the objective function obtained by our algorithms.**"
      ],
      "metadata": {
        "id": "VDzgxrsGRdPy"
      }
    },
    {
      "cell_type": "code",
      "source": [
        "#Creation of the theoretical minimum.\n",
        "true_obj = loss_linreg(coefs)+ L2_norm(coefs,lmbd)\n",
        "\n",
        "#Creation of the error\n",
        "diff_pgd = [(pgd[1][j] - true_obj)**2 for j in range(len(pgd[1]))]\n",
        "diff_apgd = [(apgd[1][j] - true_obj)**2 for j in range(len(apgd[1]))]\n",
        "\n",
        "#Creation of the figure\n",
        "\n",
        "plt.plot(diff_pgd, label = \"PGD\")\n",
        "plt.plot(diff_apgd, label = \"APGD\")\n",
        "ax.set_yscale('log')\n",
        "plt.legend()\n",
        "plt.xlabel(\"Iterations\")\n",
        "plt.ylabel(\"Error with minimum (in log scale)\")\n",
        "plt.title(\"Comparison of FISTA and ISTA in term of distance to the minimum\")\n",
        "plt.show()"
      ],
      "metadata": {
        "colab": {
          "base_uri": "https://localhost:8080/",
          "height": 295
        },
        "id": "rizPVD9SfJWZ",
        "outputId": "de72840c-8546-4dbf-c7e7-6aa900b5186c"
      },
      "execution_count": null,
      "outputs": [
        {
          "output_type": "display_data",
          "data": {
            "text/plain": [
              "<Figure size 432x288 with 1 Axes>"
            ],
            "image/png": "[encoded data removed]"
          },
          "metadata": {
            "needs_background": "light"
          }
        }
      ]
    },
    {
      "cell_type": "markdown",
      "source": [
        "Conclusion : We have the same conclusions mentioned before; APGD algorithm is faster than PGD"
      ],
      "metadata": {
        "id": "-5DNztuy33qQ"
      }
    },
    {
      "cell_type": "markdown",
      "metadata": {
        "id": "Uey7EmyK6dTN"
      },
      "source": [
        "<div class=\"alert alert-success\">\n",
        "    <b>EXERCISE</b>:\n",
        "     <ul>\n",
        "      <li>Compare the solution you obtain with PGD and APGD with the true parameter `coefs` of\n",
        "  the model. This can be done with 3 `plt.stem` plots. Do this for one problem (linear or logistic), but for both regularizers. Comment.</li>\n",
        "    <li> Pick one problem (logistic or linear) and regularizer (L1 or L2), and study the influence of the correlation \n",
        "  of the features on the performance of the optimization algorithms. Explain.</li>\n",
        "    <li>Pick a different problem (logistic or linear) and a different regularization (L1 or L2), and study the influence of the level of  \n",
        "  penalization ($\\lambda$) on the performance of the optimization algorithms. Explain. Analyse and explain the behavior of the solution vector when $\\lambda$ increases.</li>\n",
        "    </ul>\n",
        "</div>"
      ]
    },
    {
      "cell_type": "markdown",
      "source": [
        "<div class=\"alert alert-success\">\n",
        "    <b>Answer</b>:\n",
        "     <ul>1.\n",
        "      Compare the solution you obtain with PGD and APGD with the true parameter `coefs` of\n",
        "  the model. This can be done with 3 `plt.stem` plots. Do this for one problem (linear or logistic), but for both regularizers. Comment.\n",
        "\n",
        "\n",
        "</div>"
      ],
      "metadata": {
        "id": "NUpICPdqtL5U"
      }
    },
    {
      "cell_type": "code",
      "execution_count": null,
      "metadata": {
        "id": "wluTkJ9o6dTO",
        "colab": {
          "base_uri": "https://localhost:8080/",
          "height": 1000
        },
        "outputId": "f4217660-0999-4f1e-87fb-e0bcdaf13817"
      },
      "outputs": [
        {
          "output_type": "stream",
          "name": "stdout",
          "text": [
            "Lauching PGDsolver...\n",
            "   it    |   obj    |   err   \n",
            "       0 | 1.19e+00 | 8.85e-01\n",
            "      10 | 5.44e-01 | 3.47e-01\n",
            "      20 | 4.77e-01 | 1.99e-01\n",
            "      30 | 4.65e-01 | 1.56e-01\n",
            "      40 | 4.63e-01 | 1.43e-01\n",
            "      50 | 4.62e-01 | 1.39e-01\n",
            "      60 | 4.61e-01 | 1.37e-01\n",
            "      70 | 4.61e-01 | 1.37e-01\n",
            "      80 | 4.61e-01 | 1.37e-01\n",
            "      90 | 4.61e-01 | 1.37e-01\n",
            "     100 | 4.61e-01 | 1.37e-01\n",
            "     110 | 4.61e-01 | 1.37e-01\n",
            "     120 | 4.61e-01 | 1.37e-01\n",
            "     130 | 4.61e-01 | 1.37e-01\n",
            "     140 | 4.61e-01 | 1.37e-01\n",
            "     150 | 4.61e-01 | 1.37e-01\n",
            "     160 | 4.61e-01 | 1.37e-01\n",
            "     170 | 4.61e-01 | 1.37e-01\n",
            "     180 | 4.61e-01 | 1.37e-01\n",
            "     190 | 4.61e-01 | 1.37e-01\n",
            "     200 | 4.61e-01 | 1.37e-01\n",
            "Lauching APGD solver...\n",
            "   it    |   obj    |   err   \n",
            "       0 | 1.19e+00 | 8.85e-01\n",
            "      10 | 4.56e-01 | 1.13e-01\n",
            "      20 | 4.65e-01 | 1.50e-01\n",
            "      30 | 4.60e-01 | 1.33e-01\n",
            "      40 | 4.62e-01 | 1.38e-01\n",
            "      50 | 4.61e-01 | 1.36e-01\n",
            "      60 | 4.61e-01 | 1.37e-01\n",
            "      70 | 4.61e-01 | 1.37e-01\n",
            "      80 | 4.61e-01 | 1.37e-01\n",
            "      90 | 4.61e-01 | 1.37e-01\n",
            "     100 | 4.61e-01 | 1.37e-01\n",
            "     110 | 4.61e-01 | 1.37e-01\n",
            "     120 | 4.61e-01 | 1.37e-01\n",
            "     130 | 4.61e-01 | 1.37e-01\n",
            "     140 | 4.61e-01 | 1.37e-01\n",
            "     150 | 4.61e-01 | 1.37e-01\n",
            "     160 | 4.61e-01 | 1.37e-01\n",
            "     170 | 4.61e-01 | 1.37e-01\n",
            "     180 | 4.61e-01 | 1.37e-01\n",
            "     190 | 4.61e-01 | 1.37e-01\n",
            "     200 | 4.61e-01 | 1.37e-01\n",
            "Lauching PGDsolver...\n",
            "   it    |   obj    |   err   \n",
            "       0 | 1.23e+00 | 8.98e-01\n",
            "      10 | 6.51e-01 | 4.20e-01\n",
            "      20 | 5.80e-01 | 2.78e-01\n",
            "      30 | 5.66e-01 | 2.34e-01\n",
            "      40 | 5.62e-01 | 2.20e-01\n",
            "      50 | 5.61e-01 | 2.15e-01\n",
            "      60 | 5.61e-01 | 2.13e-01\n",
            "      70 | 5.61e-01 | 2.12e-01\n",
            "      80 | 5.61e-01 | 2.12e-01\n",
            "      90 | 5.61e-01 | 2.12e-01\n",
            "     100 | 5.61e-01 | 2.12e-01\n",
            "     110 | 5.61e-01 | 2.12e-01\n",
            "     120 | 5.61e-01 | 2.12e-01\n",
            "     130 | 5.61e-01 | 2.12e-01\n",
            "     140 | 5.61e-01 | 2.12e-01\n",
            "     150 | 5.61e-01 | 2.12e-01\n",
            "     160 | 5.61e-01 | 2.12e-01\n",
            "     170 | 5.61e-01 | 2.12e-01\n",
            "     180 | 5.61e-01 | 2.12e-01\n",
            "     190 | 5.61e-01 | 2.12e-01\n",
            "     200 | 5.61e-01 | 2.12e-01\n",
            "Lauching APGD solver...\n",
            "   it    |   obj    |   err   \n",
            "       0 | 1.23e+00 | 8.98e-01\n",
            "      10 | 5.54e-01 | 1.79e-01\n",
            "      20 | 5.64e-01 | 2.26e-01\n",
            "      30 | 5.59e-01 | 2.06e-01\n",
            "      40 | 5.61e-01 | 2.15e-01\n",
            "      50 | 5.60e-01 | 2.11e-01\n",
            "      60 | 5.61e-01 | 2.13e-01\n",
            "      70 | 5.60e-01 | 2.12e-01\n",
            "      80 | 5.61e-01 | 2.12e-01\n",
            "      90 | 5.61e-01 | 2.12e-01\n",
            "     100 | 5.61e-01 | 2.12e-01\n",
            "     110 | 5.61e-01 | 2.12e-01\n",
            "     120 | 5.61e-01 | 2.12e-01\n",
            "     130 | 5.61e-01 | 2.12e-01\n",
            "     140 | 5.61e-01 | 2.12e-01\n",
            "     150 | 5.61e-01 | 2.12e-01\n",
            "     160 | 5.61e-01 | 2.12e-01\n",
            "     170 | 5.61e-01 | 2.12e-01\n",
            "     180 | 5.61e-01 | 2.12e-01\n",
            "     190 | 5.61e-01 | 2.12e-01\n",
            "     200 | 5.61e-01 | 2.12e-01\n"
          ]
        },
        {
          "output_type": "stream",
          "name": "stderr",
          "text": [
            "/usr/local/lib/python3.7/dist-packages/ipykernel_launcher.py:11: UserWarning: In Matplotlib 3.3 individual lines on a stem plot will be added as a LineCollection instead of individual lines. This significantly improves the performance of a stem plot. To remove this warning and switch to the new behaviour, set the \"use_line_collection\" keyword argument to True.\n",
            "  # This is added back by InteractiveShellApp.init_path()\n",
            "/usr/local/lib/python3.7/dist-packages/ipykernel_launcher.py:15: UserWarning: In Matplotlib 3.3 individual lines on a stem plot will be added as a LineCollection instead of individual lines. This significantly improves the performance of a stem plot. To remove this warning and switch to the new behaviour, set the \"use_line_collection\" keyword argument to True.\n",
            "  from ipykernel import kernelapp as app\n",
            "/usr/local/lib/python3.7/dist-packages/ipykernel_launcher.py:18: UserWarning: In Matplotlib 3.3 individual lines on a stem plot will be added as a LineCollection instead of individual lines. This significantly improves the performance of a stem plot. To remove this warning and switch to the new behaviour, set the \"use_line_collection\" keyword argument to True.\n",
            "/usr/local/lib/python3.7/dist-packages/ipykernel_launcher.py:20: UserWarning: In Matplotlib 3.3 individual lines on a stem plot will be added as a LineCollection instead of individual lines. This significantly improves the performance of a stem plot. To remove this warning and switch to the new behaviour, set the \"use_line_collection\" keyword argument to True.\n",
            "/usr/local/lib/python3.7/dist-packages/ipykernel_launcher.py:24: UserWarning: In Matplotlib 3.3 individual lines on a stem plot will be added as a LineCollection instead of individual lines. This significantly improves the performance of a stem plot. To remove this warning and switch to the new behaviour, set the \"use_line_collection\" keyword argument to True.\n",
            "/usr/local/lib/python3.7/dist-packages/ipykernel_launcher.py:27: UserWarning: In Matplotlib 3.3 individual lines on a stem plot will be added as a LineCollection instead of individual lines. This significantly improves the performance of a stem plot. To remove this warning and switch to the new behaviour, set the \"use_line_collection\" keyword argument to True.\n"
          ]
        },
        {
          "output_type": "display_data",
          "data": {
            "text/plain": [
              "<Figure size 1440x720 with 6 Axes>"
            ],
            "image/png": "[encoded data removed]"
          },
          "metadata": {
            "needs_background": "light"
          }
        }
      ],
      "source": [
        "L = smoothness_const_linreg(A1)\n",
        "\n",
        "pgd = PGD(x0, loss_linreg, grad_linreg, L2_norm, prox_L2, 1/L, lmbd=lmbd, n_iter = n_iter,x_true=coefs, verbose=True)\n",
        "apgd = APGD(x0, loss_linreg, grad_linreg, L2_norm, prox_L2, 1/L, lmbd=lmbd, n_iter = n_iter,x_true=coefs, verbose=True)\n",
        "\n",
        "pgd_l1 = PGD(x0, loss_linreg, grad_linreg, L1_norm, prox_L1, 1/L, lmbd=lmbd, n_iter = n_iter,x_true=coefs, verbose=True)\n",
        "apgd_l1 = APGD(x0, loss_linreg, grad_linreg, L1_norm, prox_L1, 1/L, lmbd=lmbd, n_iter = n_iter,x_true=coefs, verbose=True)\n",
        "\n",
        "fig = plt.figure(figsize=(20,10))\n",
        "ax = fig.add_subplot(2, 3, 1)\n",
        "ax.stem(pgd[0])\n",
        "ax.set_title('PGD with L2')\n",
        "ax = fig.add_subplot(2, 3, 2)\n",
        "ax.set_title('Coefs')\n",
        "ax.stem(coefs)\n",
        "ax = fig.add_subplot(2, 3, 3)\n",
        "ax.set_title('APGD with L2')\n",
        "ax.stem(apgd[0])\n",
        "ax = fig.add_subplot(2, 3, 4)\n",
        "ax.stem(pgd_l1[0])\n",
        "ax.set_title('PGD with L1')\n",
        "ax = fig.add_subplot(2, 3, 5)\n",
        "ax.set_title('Coefs')\n",
        "ax.stem(coefs)\n",
        "ax = fig.add_subplot(2, 3, 6)\n",
        "ax.set_title('APGD with L1')\n",
        "ax.stem(apgd_l1[0])\n",
        "\n",
        "plt.show()"
      ]
    },
    {
      "cell_type": "markdown",
      "source": [
        "Conclusion & explanation: For a linear problem with L2 regularization, we can see that the null coefficients are not null in our estimation, just the magnitude of the coefficients is reduced. On the contrary for a linear problem with L1 regularization, we can see that the null weights for the coefficients are almost null in our estimation. Otherwise, the coefficients are reduced by both regularizations but more aggressively for L1. The effect of the regularization does not change between PGD and APGD."
      ],
      "metadata": {
        "id": "FzTwbCS2lpgG"
      }
    },
    {
      "cell_type": "markdown",
      "source": [
        "<div class=\"alert alert-success\">\n",
        "    <b>Answer</b>:\n",
        "     <ul> 2. Pick one problem (logistic or linear) and regularizer (L1 or L2), and study the influence of the correlation \n",
        "  of the features on the performance of the optimization algorithms. Explain.</\n",
        "    </ul>\n",
        "</div>"
      ],
      "metadata": {
        "id": "7tpnvT9QvkJq"
      }
    },
    {
      "cell_type": "code",
      "source": [
        "#Performance of APGD algorithm on linear regression\n",
        "n_iter = 150\n",
        "#We calculate the Lipschitz constants also\n",
        "\n",
        "# Implementation of differents APGD according to the correlation value we precise on the generated data\n",
        "A0, b0 = simu_linreg(coefs, n_samples=1000, corr=0.2)\n",
        "L_02 = smoothness_const_linreg(A0)\n",
        "APGD_02 = APGD(x0, loss_linreg, grad_linreg, L2_norm, prox_L2, 1/L_02, lmbd=lmbd, n_iter = n_iter,x_true=coefs, verbose=True)\n",
        "\n",
        "A0, b0 = simu_linreg(coefs, n_samples=1000, corr=0.4)\n",
        "L_04 = smoothness_const_linreg(A0)\n",
        "APGD_04 = APGD(x0, loss_linreg, grad_linreg, L2_norm, prox_L2, 1/L_04, lmbd=lmbd, n_iter = n_iter,x_true=coefs, verbose=True)\n",
        "\n",
        "A0, b0 = simu_linreg(coefs, n_samples=1000, corr=0.6)\n",
        "L_06 = smoothness_const_linreg(A0)\n",
        "APGD_06 = APGD(x0, loss_linreg, grad_linreg, L2_norm, prox_L2, 1/L_06, lmbd=lmbd, n_iter = n_iter,x_true=coefs, verbose=True)\n",
        "\n",
        "A0, b0 = simu_linreg(coefs, n_samples=1000, corr=0.8)\n",
        "L_08 = smoothness_const_linreg(A0)\n",
        "APGD_08 = APGD(x0, loss_linreg, grad_linreg, L2_norm, prox_L2, 1/L_08, lmbd=lmbd, n_iter = n_iter,x_true=coefs, verbose=True)\n",
        "\n",
        "\n",
        "x = np.arange(len(APGD_02[1]))\n",
        "fig = plt.figure()\n",
        "ax = fig.add_subplot(1,1,1)\n",
        "plt.plot(x, APGD_02[2], label = 'corr: 0.2')\n",
        "plt.plot(x, APGD_04[2], label = 'corr: 0.4')\n",
        "plt.plot(x, APGD_06[2], label = 'corr: 0.6')\n",
        "plt.plot(x, APGD_08[2], label = 'corr: 0.8')\n",
        "plt.xlabel('Iterations')\n",
        "plt.ylabel('Error')\n",
        "\n",
        "\n",
        "plt.title('APGD for linear regression with ridge penalization')\n",
        "plt.legend()\n",
        "plt.show()"
      ],
      "metadata": {
        "colab": {
          "base_uri": "https://localhost:8080/",
          "height": 1000
        },
        "id": "Rrd0xAoomZkI",
        "outputId": "ad411202-d99a-4654-c2cd-fedff321d4f6"
      },
      "execution_count": null,
      "outputs": [
        {
          "output_type": "stream",
          "name": "stdout",
          "text": [
            "Lauching APGD solver...\n",
            "   it    |   obj    |   err   \n",
            "       0 | 1.17e+00 | 6.31e-01\n",
            "      10 | 4.65e-01 | 9.41e-02\n",
            "      20 | 4.64e-01 | 9.29e-02\n",
            "      30 | 4.64e-01 | 9.29e-02\n",
            "      40 | 4.64e-01 | 9.29e-02\n",
            "      50 | 4.64e-01 | 9.29e-02\n",
            "      60 | 4.64e-01 | 9.29e-02\n",
            "      70 | 4.64e-01 | 9.29e-02\n",
            "      80 | 4.64e-01 | 9.29e-02\n",
            "      90 | 4.64e-01 | 9.29e-02\n",
            "     100 | 4.64e-01 | 9.29e-02\n",
            "     110 | 4.64e-01 | 9.29e-02\n",
            "     120 | 4.64e-01 | 9.29e-02\n",
            "     130 | 4.64e-01 | 9.29e-02\n",
            "     140 | 4.64e-01 | 9.29e-02\n",
            "     150 | 4.64e-01 | 9.29e-02\n",
            "Lauching APGD solver...\n",
            "   it    |   obj    |   err   \n",
            "       0 | 1.38e+00 | 8.24e-01\n",
            "      10 | 4.61e-01 | 1.30e-01\n",
            "      20 | 4.67e-01 | 1.11e-01\n",
            "      30 | 4.66e-01 | 1.11e-01\n",
            "      40 | 4.65e-01 | 1.11e-01\n",
            "      50 | 4.65e-01 | 1.11e-01\n",
            "      60 | 4.65e-01 | 1.11e-01\n",
            "      70 | 4.65e-01 | 1.11e-01\n",
            "      80 | 4.65e-01 | 1.11e-01\n",
            "      90 | 4.65e-01 | 1.11e-01\n",
            "     100 | 4.65e-01 | 1.11e-01\n",
            "     110 | 4.65e-01 | 1.11e-01\n",
            "     120 | 4.65e-01 | 1.11e-01\n",
            "     130 | 4.65e-01 | 1.11e-01\n",
            "     140 | 4.65e-01 | 1.11e-01\n",
            "     150 | 4.65e-01 | 1.11e-01\n",
            "Lauching APGD solver...\n",
            "   it    |   obj    |   err   \n",
            "       0 | 1.12e+00 | 9.31e-01\n",
            "      10 | 5.15e-01 | 2.14e-01\n",
            "      20 | 5.02e-01 | 1.71e-01\n",
            "      30 | 5.13e-01 | 2.10e-01\n",
            "      40 | 5.05e-01 | 1.83e-01\n",
            "      50 | 5.08e-01 | 1.95e-01\n",
            "      60 | 5.08e-01 | 1.91e-01\n",
            "      70 | 5.07e-01 | 1.91e-01\n",
            "      80 | 5.08e-01 | 1.92e-01\n",
            "      90 | 5.07e-01 | 1.91e-01\n",
            "     100 | 5.08e-01 | 1.92e-01\n",
            "     110 | 5.08e-01 | 1.92e-01\n",
            "     120 | 5.08e-01 | 1.92e-01\n",
            "     130 | 5.08e-01 | 1.92e-01\n",
            "     140 | 5.08e-01 | 1.92e-01\n",
            "     150 | 5.08e-01 | 1.92e-01\n",
            "Lauching APGD solver...\n",
            "   it    |   obj    |   err   \n",
            "       0 | 9.47e-01 | 9.82e-01\n",
            "      10 | 6.77e-01 | 7.11e-01\n",
            "      20 | 5.57e-01 | 4.33e-01\n",
            "      30 | 5.40e-01 | 3.59e-01\n",
            "      40 | 5.60e-01 | 4.23e-01\n",
            "      50 | 5.72e-01 | 4.67e-01\n",
            "      60 | 5.63e-01 | 4.42e-01\n",
            "      70 | 5.55e-01 | 4.15e-01\n",
            "      80 | 5.59e-01 | 4.23e-01\n",
            "      90 | 5.64e-01 | 4.41e-01\n",
            "     100 | 5.63e-01 | 4.39e-01\n",
            "     110 | 5.59e-01 | 4.28e-01\n",
            "     120 | 5.60e-01 | 4.27e-01\n",
            "     130 | 5.62e-01 | 4.34e-01\n",
            "     140 | 5.62e-01 | 4.36e-01\n",
            "     150 | 5.60e-01 | 4.31e-01\n"
          ]
        },
        {
          "output_type": "display_data",
          "data": {
            "text/plain": [
              "<Figure size 432x288 with 1 Axes>"
            ],
            "image/png": "[encoded data removed]"
          },
          "metadata": {
            "needs_background": "light"
          }
        }
      ]
    },
    {
      "cell_type": "code",
      "source": [
        "#Performance of APGD algorithm on logistic regression\n",
        "n_iter = 150\n",
        "#We calculate the Lipschitz constants also\n",
        "\n",
        "# Implementation of differents APGD according to the correlation value we precise on the generated data\n",
        "A0, b0 = simu_logreg(coefs, n_samples=1000, corr=0.2)\n",
        "L_02 = smoothness_const_loreg(A0)\n",
        "APGD_02 = APGD(x0, loss_logreg, grad_logreg, L2_norm, prox_L2, 1/L_02, lmbd=lmbd, n_iter = n_iter,x_true=coefs, verbose=True)\n",
        "\n",
        "A0, b0 = simu_logreg(coefs, n_samples=1000, corr=0.4)\n",
        "L_04 = smoothness_const_loreg(A0)\n",
        "APGD_04 = APGD(x0, loss_logreg, grad_logreg, L2_norm, prox_L2, 1/L_04, lmbd=lmbd, n_iter = n_iter,x_true=coefs, verbose=True)\n",
        "\n",
        "A0, b0 = simu_logreg(coefs, n_samples=1000, corr=0.6)\n",
        "L_06 = smoothness_const_loreg(A0)\n",
        "APGD_06 = APGD(x0, loss_logreg, grad_logreg, L2_norm, prox_L2, 1/L_06, lmbd=lmbd, n_iter = n_iter,x_true=coefs, verbose=True)\n",
        "\n",
        "A0, b0 = simu_logreg(coefs, n_samples=1000, corr=0.8)\n",
        "L_08 = smoothness_const_loreg(A0)\n",
        "APGD_08 = APGD(x0, loss_logreg, grad_logreg, L2_norm, prox_L2, 1/L_08, lmbd=lmbd, n_iter = n_iter,x_true=coefs, verbose=True)\n",
        "\n",
        "\n",
        "x = np.arange(len(APGD_02[1]))\n",
        "fig = plt.figure()\n",
        "ax = fig.add_subplot(1,1,1)\n",
        "plt.plot(x, APGD_02[2], label = 'corr: 0.2')\n",
        "plt.plot(x, APGD_04[2], label = 'corr: 0.4')\n",
        "plt.plot(x, APGD_06[2], label = 'corr: 0.6')\n",
        "plt.plot(x, APGD_08[2], label = 'corr: 0.8')\n",
        "plt.xlabel('Iterations')\n",
        "plt.ylabel('Error')\n",
        "\n",
        "\n",
        "plt.title('APGD for logistic regression with ridge penalization')\n",
        "plt.legend()\n",
        "plt.show()"
      ],
      "metadata": {
        "colab": {
          "base_uri": "https://localhost:8080/",
          "height": 1000
        },
        "id": "pvnrlNE0TYRJ",
        "outputId": "7afd6c16-f4f9-438f-c11e-e9d5f62c1694"
      },
      "execution_count": null,
      "outputs": [
        {
          "output_type": "stream",
          "name": "stdout",
          "text": [
            "Lauching APGD solver...\n",
            "   it    |   obj    |   err   \n",
            "       0 | 3.31e-02 | 9.94e-01\n",
            "      10 | 1.99e-02 | 9.42e-01\n",
            "      20 | 1.39e-02 | 9.62e-01\n",
            "      30 | 1.25e-02 | 9.74e-01\n",
            "      40 | 1.32e-02 | 9.51e-01\n",
            "      50 | 1.41e-02 | 9.39e-01\n",
            "      60 | 1.41e-02 | 9.44e-01\n",
            "      70 | 1.36e-02 | 9.53e-01\n",
            "      80 | 1.35e-02 | 9.53e-01\n",
            "      90 | 1.36e-02 | 9.47e-01\n",
            "     100 | 1.38e-02 | 9.45e-01\n",
            "     110 | 1.37e-02 | 9.47e-01\n",
            "     120 | 1.36e-02 | 9.50e-01\n",
            "     130 | 1.36e-02 | 9.50e-01\n",
            "     140 | 1.37e-02 | 9.48e-01\n",
            "     150 | 1.37e-02 | 9.47e-01\n",
            "Lauching APGD solver...\n",
            "   it    |   obj    |   err   \n",
            "       0 | 3.36e-02 | 9.96e-01\n",
            "      10 | 2.23e-02 | 9.48e-01\n",
            "      20 | 1.63e-02 | 9.41e-01\n",
            "      30 | 1.46e-02 | 9.41e-01\n",
            "      40 | 1.52e-02 | 9.28e-01\n",
            "      50 | 1.61e-02 | 9.22e-01\n",
            "      60 | 1.63e-02 | 9.26e-01\n",
            "      70 | 1.59e-02 | 9.31e-01\n",
            "      80 | 1.56e-02 | 9.32e-01\n",
            "      90 | 1.57e-02 | 9.28e-01\n",
            "     100 | 1.59e-02 | 9.25e-01\n",
            "     110 | 1.59e-02 | 9.26e-01\n",
            "     120 | 1.58e-02 | 9.29e-01\n",
            "     130 | 1.57e-02 | 9.30e-01\n",
            "     140 | 1.58e-02 | 9.28e-01\n",
            "     150 | 1.59e-02 | 9.27e-01\n",
            "Lauching APGD solver...\n",
            "   it    |   obj    |   err   \n",
            "       0 | 3.40e-02 | 9.97e-01\n",
            "      10 | 2.54e-02 | 9.60e-01\n",
            "      20 | 1.97e-02 | 9.38e-01\n",
            "      30 | 1.77e-02 | 9.28e-01\n",
            "      40 | 1.81e-02 | 9.20e-01\n",
            "      50 | 1.89e-02 | 9.19e-01\n",
            "      60 | 1.93e-02 | 9.24e-01\n",
            "      70 | 1.90e-02 | 9.27e-01\n",
            "      80 | 1.87e-02 | 9.26e-01\n",
            "      90 | 1.86e-02 | 9.23e-01\n",
            "     100 | 1.88e-02 | 9.22e-01\n",
            "     110 | 1.89e-02 | 9.22e-01\n",
            "     120 | 1.89e-02 | 9.24e-01\n",
            "     130 | 1.88e-02 | 9.25e-01\n",
            "     140 | 1.88e-02 | 9.24e-01\n",
            "     150 | 1.88e-02 | 9.23e-01\n",
            "Lauching APGD solver...\n",
            "   it    |   obj    |   err   \n",
            "       0 | 3.43e-02 | 9.99e-01\n",
            "      10 | 2.86e-02 | 9.74e-01\n",
            "      20 | 2.35e-02 | 9.50e-01\n",
            "      30 | 2.15e-02 | 9.37e-01\n",
            "      40 | 2.16e-02 | 9.30e-01\n",
            "      50 | 2.24e-02 | 9.32e-01\n",
            "      60 | 2.28e-02 | 9.38e-01\n",
            "      70 | 2.27e-02 | 9.40e-01\n",
            "      80 | 2.24e-02 | 9.38e-01\n",
            "      90 | 2.23e-02 | 9.36e-01\n",
            "     100 | 2.23e-02 | 9.35e-01\n",
            "     110 | 2.24e-02 | 9.36e-01\n",
            "     120 | 2.25e-02 | 9.37e-01\n",
            "     130 | 2.25e-02 | 9.37e-01\n",
            "     140 | 2.24e-02 | 9.37e-01\n",
            "     150 | 2.24e-02 | 9.36e-01\n"
          ]
        },
        {
          "output_type": "display_data",
          "data": {
            "text/plain": [
              "<Figure size 432x288 with 1 Axes>"
            ],
            "image/png": "[encoded data removed]"
          },
          "metadata": {
            "needs_background": "light"
          }
        }
      ]
    },
    {
      "cell_type": "markdown",
      "source": [
        "Conclusion : We can see that when we have a high correlation between our independent variables, our error tends to be larger, therefore depending on the convergence rate the algorithm becomes slower when the correlation is higher."
      ],
      "metadata": {
        "id": "5cYmUeT3F76B"
      }
    },
    {
      "cell_type": "markdown",
      "source": [
        "<div class=\"alert alert-success\">\n",
        "    <b>Explanation</b>:\n",
        "     <ul> By looking for the reasons of this relation between the correlation, the speed and the error. We return to the theoretical formulas and look for where the correlation intervenes, it results that the term responsible for this relation is the smoothness constant (we find it on the upper bound of our inequalities of error and convergence rate) since it contains the product of the matrices A.T and A. And since a big correlation results in a big variance, this explains that 1/L is smaller, so the algorithm becomes less fast as shown in the figures. Also the distance between the optimal solution and the loss function value at a given iteration is proportional to L which implies a larger error if L is large.\n",
        "    </ul>\n",
        "</div>"
      ],
      "metadata": {
        "id": "1gvMJlRTwE5H"
      }
    },
    {
      "cell_type": "markdown",
      "source": [
        "<div class=\"alert alert-success\">\n",
        "    <b>Answer</b>:\n",
        "     <ul>3. Pick a different problem (logistic or linear) and a different regularization (L1 or L2), and study the influence of the level of  \n",
        "  penalization ($\\lambda$) on the performance of the optimization algorithms. Explain. Analyse and explain the behavior of the solution vector when $\\lambda$ increases.\n",
        "    </ul>\n",
        "</div>"
      ],
      "metadata": {
        "id": "_CCxfn48xToj"
      }
    },
    {
      "cell_type": "code",
      "source": [
        "#Performance of APGD algorithm on logistic regression\n",
        "n_iter = 150\n",
        "#set of our lambda values\n",
        "lmbd1 = ['0.0001','0.001','0.01','0.1','1','10','100','1000']\n",
        "\n",
        "# Implementation of differents APGD according to the correlation value we precise on the generated data\n",
        "A1, b1 = simu_logreg(coefs, n_samples=1000, corr=0.4)\n",
        "L = smoothness_const_loreg(A1)\n",
        "weights = []\n",
        "error = []\n",
        "for i in range(len(lmbd1)) :\n",
        "    apgd_t = APGD(x0, loss_logreg, grad_logreg, L1_norm, prox_L1, 1/L, lmbd=float(lmbd1[i]), n_iter = n_iter, x_true=coefs, verbose=True)\n",
        "    error += [min(apgd_t[2])] \n",
        "    weights += [norm(apgd_t[0])] \n",
        "\n",
        "fig = plt.figure(figsize=(16,4))\n",
        "ax = fig.add_subplot(1,2,1)\n",
        "plt.plot(lmbd1,error)\n",
        "plt.xlabel('Lambda')\n",
        "plt.ylabel('Optimal error')\n",
        "plt.title('Optimal Error according to lambda using APGD and L1')\n",
        "ax = fig.add_subplot(1,2,2)\n",
        "plt.plot(lmbd1,weights)\n",
        "plt.xlabel('Lambda')\n",
        "plt.ylabel('Norm of optimal solution')\n",
        "\n",
        "plt.title('Norm of optimal solutions according to lambda using APGD and L1')\n",
        "\n",
        "\n",
        "plt.show()"
      ],
      "metadata": {
        "colab": {
          "base_uri": "https://localhost:8080/",
          "height": 1000
        },
        "id": "pcIDkzUfMjbq",
        "outputId": "3747158b-2ca6-4dc5-f166-7c197b24f5be"
      },
      "execution_count": null,
      "outputs": [
        {
          "output_type": "stream",
          "name": "stdout",
          "text": [
            "Lauching APGD solver...\n",
            "   it    |   obj    |   err   \n",
            "       0 | 3.36e-02 | 9.95e-01\n",
            "      10 | 2.27e-02 | 9.40e-01\n",
            "      20 | 1.68e-02 | 9.50e-01\n",
            "      30 | 1.33e-02 | 1.05e+00\n",
            "      40 | 1.11e-02 | 1.23e+00\n",
            "      50 | 9.61e-03 | 1.45e+00\n",
            "      60 | 8.49e-03 | 1.70e+00\n",
            "      70 | 7.65e-03 | 1.95e+00\n",
            "      80 | 7.06e-03 | 2.20e+00\n",
            "      90 | 6.66e-03 | 2.44e+00\n",
            "     100 | 6.41e-03 | 2.68e+00\n",
            "     110 | 6.26e-03 | 2.89e+00\n",
            "     120 | 6.18e-03 | 3.10e+00\n",
            "     130 | 6.14e-03 | 3.28e+00\n",
            "     140 | 6.14e-03 | 3.45e+00\n",
            "     150 | 6.16e-03 | 3.61e+00\n",
            "Lauching APGD solver...\n",
            "   it    |   obj    |   err   \n",
            "       0 | 3.39e-02 | 9.96e-01\n",
            "      10 | 2.64e-02 | 9.36e-01\n",
            "      20 | 2.34e-02 | 9.03e-01\n",
            "      30 | 2.28e-02 | 9.21e-01\n",
            "      40 | 2.27e-02 | 9.59e-01\n",
            "      50 | 2.28e-02 | 1.00e+00\n",
            "      60 | 2.30e-02 | 1.05e+00\n",
            "      70 | 2.31e-02 | 1.07e+00\n",
            "      80 | 2.32e-02 | 1.08e+00\n",
            "      90 | 2.32e-02 | 1.08e+00\n",
            "     100 | 2.31e-02 | 1.07e+00\n",
            "     110 | 2.31e-02 | 1.05e+00\n",
            "     120 | 2.30e-02 | 1.03e+00\n",
            "     130 | 2.29e-02 | 1.01e+00\n",
            "     140 | 2.29e-02 | 9.98e-01\n",
            "     150 | 2.28e-02 | 9.86e-01\n",
            "Lauching APGD solver...\n",
            "   it    |   obj    |   err   \n",
            "       0 | 3.46e-02 | 9.99e-01\n",
            "      10 | 3.47e-02 | 9.74e-01\n",
            "      20 | 3.51e-02 | 9.51e-01\n",
            "      30 | 3.51e-02 | 9.42e-01\n",
            "      40 | 3.50e-02 | 9.43e-01\n",
            "      50 | 3.49e-02 | 9.49e-01\n",
            "      60 | 3.50e-02 | 9.51e-01\n",
            "      70 | 3.50e-02 | 9.50e-01\n",
            "      80 | 3.50e-02 | 9.49e-01\n",
            "      90 | 3.50e-02 | 9.48e-01\n",
            "     100 | 3.50e-02 | 9.49e-01\n",
            "     110 | 3.50e-02 | 9.50e-01\n",
            "     120 | 3.50e-02 | 9.50e-01\n",
            "     130 | 3.50e-02 | 9.49e-01\n",
            "     140 | 3.50e-02 | 9.48e-01\n",
            "     150 | 3.50e-02 | 9.49e-01\n",
            "Lauching APGD solver...\n",
            "   it    |   obj    |   err   \n",
            "       0 | 3.47e-02 | 1.00e+00\n",
            "      10 | 3.47e-02 | 1.00e+00\n",
            "      20 | 3.47e-02 | 1.00e+00\n",
            "      30 | 3.47e-02 | 1.00e+00\n",
            "      40 | 3.47e-02 | 1.00e+00\n",
            "      50 | 3.47e-02 | 1.00e+00\n",
            "      60 | 3.47e-02 | 1.00e+00\n",
            "      70 | 3.47e-02 | 1.00e+00\n",
            "      80 | 3.47e-02 | 1.00e+00\n",
            "      90 | 3.47e-02 | 1.00e+00\n",
            "     100 | 3.47e-02 | 1.00e+00\n",
            "     110 | 3.47e-02 | 1.00e+00\n",
            "     120 | 3.47e-02 | 1.00e+00\n",
            "     130 | 3.47e-02 | 1.00e+00\n",
            "     140 | 3.47e-02 | 1.00e+00\n",
            "     150 | 3.47e-02 | 1.00e+00\n",
            "Lauching APGD solver...\n",
            "   it    |   obj    |   err   \n",
            "       0 | 3.47e-02 | 1.00e+00\n",
            "      10 | 3.47e-02 | 1.00e+00\n",
            "      20 | 3.47e-02 | 1.00e+00\n",
            "      30 | 3.47e-02 | 1.00e+00\n",
            "      40 | 3.47e-02 | 1.00e+00\n",
            "      50 | 3.47e-02 | 1.00e+00\n",
            "      60 | 3.47e-02 | 1.00e+00\n",
            "      70 | 3.47e-02 | 1.00e+00\n",
            "      80 | 3.47e-02 | 1.00e+00\n",
            "      90 | 3.47e-02 | 1.00e+00\n",
            "     100 | 3.47e-02 | 1.00e+00\n",
            "     110 | 3.47e-02 | 1.00e+00\n",
            "     120 | 3.47e-02 | 1.00e+00\n",
            "     130 | 3.47e-02 | 1.00e+00\n",
            "     140 | 3.47e-02 | 1.00e+00\n",
            "     150 | 3.47e-02 | 1.00e+00\n",
            "Lauching APGD solver...\n",
            "   it    |   obj    |   err   \n",
            "       0 | 3.47e-02 | 1.00e+00\n",
            "      10 | 3.47e-02 | 1.00e+00\n",
            "      20 | 3.47e-02 | 1.00e+00\n",
            "      30 | 3.47e-02 | 1.00e+00\n",
            "      40 | 3.47e-02 | 1.00e+00\n",
            "      50 | 3.47e-02 | 1.00e+00\n",
            "      60 | 3.47e-02 | 1.00e+00\n",
            "      70 | 3.47e-02 | 1.00e+00\n",
            "      80 | 3.47e-02 | 1.00e+00\n",
            "      90 | 3.47e-02 | 1.00e+00\n",
            "     100 | 3.47e-02 | 1.00e+00\n",
            "     110 | 3.47e-02 | 1.00e+00\n",
            "     120 | 3.47e-02 | 1.00e+00\n",
            "     130 | 3.47e-02 | 1.00e+00\n",
            "     140 | 3.47e-02 | 1.00e+00\n",
            "     150 | 3.47e-02 | 1.00e+00\n",
            "Lauching APGD solver...\n",
            "   it    |   obj    |   err   \n",
            "       0 | 3.47e-02 | 1.00e+00\n",
            "      10 | 3.47e-02 | 1.00e+00\n",
            "      20 | 3.47e-02 | 1.00e+00\n",
            "      30 | 3.47e-02 | 1.00e+00\n",
            "      40 | 3.47e-02 | 1.00e+00\n",
            "      50 | 3.47e-02 | 1.00e+00\n",
            "      60 | 3.47e-02 | 1.00e+00\n",
            "      70 | 3.47e-02 | 1.00e+00\n",
            "      80 | 3.47e-02 | 1.00e+00\n",
            "      90 | 3.47e-02 | 1.00e+00\n",
            "     100 | 3.47e-02 | 1.00e+00\n",
            "     110 | 3.47e-02 | 1.00e+00\n",
            "     120 | 3.47e-02 | 1.00e+00\n",
            "     130 | 3.47e-02 | 1.00e+00\n",
            "     140 | 3.47e-02 | 1.00e+00\n",
            "     150 | 3.47e-02 | 1.00e+00\n",
            "Lauching APGD solver...\n",
            "   it    |   obj    |   err   \n",
            "       0 | 3.47e-02 | 1.00e+00\n",
            "      10 | 3.47e-02 | 1.00e+00\n",
            "      20 | 3.47e-02 | 1.00e+00\n",
            "      30 | 3.47e-02 | 1.00e+00\n",
            "      40 | 3.47e-02 | 1.00e+00\n",
            "      50 | 3.47e-02 | 1.00e+00\n",
            "      60 | 3.47e-02 | 1.00e+00\n",
            "      70 | 3.47e-02 | 1.00e+00\n",
            "      80 | 3.47e-02 | 1.00e+00\n",
            "      90 | 3.47e-02 | 1.00e+00\n",
            "     100 | 3.47e-02 | 1.00e+00\n",
            "     110 | 3.47e-02 | 1.00e+00\n",
            "     120 | 3.47e-02 | 1.00e+00\n",
            "     130 | 3.47e-02 | 1.00e+00\n",
            "     140 | 3.47e-02 | 1.00e+00\n",
            "     150 | 3.47e-02 | 1.00e+00\n"
          ]
        },
        {
          "output_type": "display_data",
          "data": {
            "text/plain": [
              "<Figure size 1152x288 with 2 Axes>"
            ],
            "image/png": "[encoded data removed]"
          },
          "metadata": {
            "needs_background": "light"
          }
        }
      ]
    },
    {
      "cell_type": "markdown",
      "source": [
        "Conclusion & explanation: We can see that once the lambda value exceeds 0.001, the optimal error of our problem becomes more significant. This is due to the fact that the problem tends to minimize the norm of the weights to the maximum which generates a cancelation of the weights once the lambda value is large enough"
      ],
      "metadata": {
        "id": "LUf80FmfI7sq"
      }
    },
    {
      "cell_type": "code",
      "source": [
        "#Performance of APGD algorithm on linear regression\n",
        "n_iter = 150\n",
        "#set of our lambda values\n",
        "lmbd1 = ['0.0001','0.001','0.01','0.1','1','10','100','1000']\n",
        "\n",
        "# Implementation of differents APGD according to the correlation value we precise on the generated data\n",
        "A0, b0 = simu_logreg(coefs, n_samples=1000, corr=0.4)\n",
        "L = smoothness_const_loreg(A0)\n",
        "\n",
        "weights = []\n",
        "error = []\n",
        "for i in range(len(lmbd1)) :\n",
        "    apgd_t = APGD(x0, loss_logreg, grad_logreg, L2_norm, prox_L2, 1/L, lmbd=float(lmbd1[i]), n_iter = n_iter,x_true=coefs, verbose=True)\n",
        "    error += [min(apgd_t[2])] \n",
        "    weights += [norm(apgd_t[0])] \n",
        "    \n",
        "fig = plt.figure(figsize=(16,4))\n",
        "ax = fig.add_subplot(1,2,1)\n",
        "plt.plot(lmbd1,error)\n",
        "plt.xlabel('Lambda')\n",
        "plt.ylabel('Optimal error')\n",
        "plt.title('Optimal Error according to lambda using APGD and L2')\n",
        "ax = fig.add_subplot(1,2,2)\n",
        "plt.plot(lmbd1,weights)\n",
        "plt.xlabel('Lambda')\n",
        "plt.ylabel('Norm of optimal solutions ')\n",
        "plt.title('Norm of optimal solutions according to lambda using APGD and L2')\n",
        "\n",
        "plt.show()"
      ],
      "metadata": {
        "colab": {
          "base_uri": "https://localhost:8080/",
          "height": 1000
        },
        "id": "mxL0gfENF6z6",
        "outputId": "4f229e55-3887-4149-8dca-6612a05b066a"
      },
      "execution_count": null,
      "outputs": [
        {
          "output_type": "stream",
          "name": "stdout",
          "text": [
            "Lauching APGD solver...\n",
            "   it    |   obj    |   err   \n",
            "       0 | 3.35e-02 | 9.95e-01\n",
            "      10 | 2.19e-02 | 9.39e-01\n",
            "      20 | 1.55e-02 | 9.61e-01\n",
            "      30 | 1.17e-02 | 1.08e+00\n",
            "      40 | 9.01e-03 | 1.29e+00\n",
            "      50 | 7.05e-03 | 1.54e+00\n",
            "      60 | 5.54e-03 | 1.80e+00\n",
            "      70 | 4.37e-03 | 2.07e+00\n",
            "      80 | 3.48e-03 | 2.34e+00\n",
            "      90 | 2.83e-03 | 2.59e+00\n",
            "     100 | 2.35e-03 | 2.82e+00\n",
            "     110 | 1.99e-03 | 3.02e+00\n",
            "     120 | 1.71e-03 | 3.21e+00\n",
            "     130 | 1.51e-03 | 3.36e+00\n",
            "     140 | 1.36e-03 | 3.50e+00\n",
            "     150 | 1.24e-03 | 3.60e+00\n",
            "Lauching APGD solver...\n",
            "   it    |   obj    |   err   \n",
            "       0 | 3.35e-02 | 9.95e-01\n",
            "      10 | 2.19e-02 | 9.39e-01\n",
            "      20 | 1.57e-02 | 9.55e-01\n",
            "      30 | 1.21e-02 | 1.05e+00\n",
            "      40 | 9.79e-03 | 1.19e+00\n",
            "      50 | 8.24e-03 | 1.34e+00\n",
            "      60 | 7.20e-03 | 1.46e+00\n",
            "      70 | 6.57e-03 | 1.55e+00\n",
            "      80 | 6.29e-03 | 1.59e+00\n",
            "      90 | 6.25e-03 | 1.59e+00\n",
            "     100 | 6.38e-03 | 1.57e+00\n",
            "     110 | 6.63e-03 | 1.52e+00\n",
            "     120 | 6.94e-03 | 1.47e+00\n",
            "     130 | 7.25e-03 | 1.43e+00\n",
            "     140 | 7.52e-03 | 1.39e+00\n",
            "     150 | 7.69e-03 | 1.37e+00\n",
            "Lauching APGD solver...\n",
            "   it    |   obj    |   err   \n",
            "       0 | 3.35e-02 | 9.95e-01\n",
            "      10 | 2.26e-02 | 9.41e-01\n",
            "      20 | 1.78e-02 | 9.25e-01\n",
            "      30 | 1.67e-02 | 9.16e-01\n",
            "      40 | 1.71e-02 | 9.07e-01\n",
            "      50 | 1.77e-02 | 9.06e-01\n",
            "      60 | 1.78e-02 | 9.09e-01\n",
            "      70 | 1.76e-02 | 9.12e-01\n",
            "      80 | 1.74e-02 | 9.12e-01\n",
            "      90 | 1.75e-02 | 9.10e-01\n",
            "     100 | 1.76e-02 | 9.08e-01\n",
            "     110 | 1.76e-02 | 9.08e-01\n",
            "     120 | 1.75e-02 | 9.10e-01\n",
            "     130 | 1.75e-02 | 9.11e-01\n",
            "     140 | 1.75e-02 | 9.11e-01\n",
            "     150 | 1.75e-02 | 9.09e-01\n",
            "Lauching APGD solver...\n",
            "   it    |   obj    |   err   \n",
            "       0 | 3.36e-02 | 9.95e-01\n",
            "      10 | 2.81e-02 | 9.63e-01\n",
            "      20 | 2.86e-02 | 9.65e-01\n",
            "      30 | 2.85e-02 | 9.65e-01\n",
            "      40 | 2.85e-02 | 9.65e-01\n",
            "      50 | 2.85e-02 | 9.65e-01\n",
            "      60 | 2.85e-02 | 9.65e-01\n",
            "      70 | 2.85e-02 | 9.65e-01\n",
            "      80 | 2.85e-02 | 9.65e-01\n",
            "      90 | 2.85e-02 | 9.65e-01\n",
            "     100 | 2.85e-02 | 9.65e-01\n",
            "     110 | 2.85e-02 | 9.65e-01\n",
            "     120 | 2.85e-02 | 9.65e-01\n",
            "     130 | 2.85e-02 | 9.65e-01\n",
            "     140 | 2.85e-02 | 9.65e-01\n",
            "     150 | 2.85e-02 | 9.65e-01\n",
            "Lauching APGD solver...\n",
            "   it    |   obj    |   err   \n",
            "       0 | 3.43e-02 | 9.97e-01\n",
            "      10 | 3.44e-02 | 9.95e-01\n",
            "      20 | 3.44e-02 | 9.95e-01\n",
            "      30 | 3.44e-02 | 9.95e-01\n",
            "      40 | 3.44e-02 | 9.95e-01\n",
            "      50 | 3.44e-02 | 9.95e-01\n",
            "      60 | 3.44e-02 | 9.95e-01\n",
            "      70 | 3.44e-02 | 9.95e-01\n",
            "      80 | 3.44e-02 | 9.95e-01\n",
            "      90 | 3.44e-02 | 9.95e-01\n",
            "     100 | 3.44e-02 | 9.95e-01\n",
            "     110 | 3.44e-02 | 9.95e-01\n",
            "     120 | 3.44e-02 | 9.95e-01\n",
            "     130 | 3.44e-02 | 9.95e-01\n",
            "     140 | 3.44e-02 | 9.95e-01\n",
            "     150 | 3.44e-02 | 9.95e-01\n",
            "Lauching APGD solver...\n",
            "   it    |   obj    |   err   \n",
            "       0 | 3.53e-02 | 1.00e+00\n",
            "      10 | 3.54e-02 | 9.99e-01\n",
            "      20 | 3.54e-02 | 9.99e-01\n",
            "      30 | 3.54e-02 | 9.99e-01\n",
            "      40 | 3.54e-02 | 9.99e-01\n",
            "      50 | 3.54e-02 | 9.99e-01\n",
            "      60 | 3.54e-02 | 9.99e-01\n",
            "      70 | 3.54e-02 | 9.99e-01\n",
            "      80 | 3.54e-02 | 9.99e-01\n",
            "      90 | 3.54e-02 | 9.99e-01\n",
            "     100 | 3.54e-02 | 9.99e-01\n",
            "     110 | 3.54e-02 | 9.99e-01\n",
            "     120 | 3.54e-02 | 9.99e-01\n",
            "     130 | 3.54e-02 | 9.99e-01\n",
            "     140 | 3.54e-02 | 9.99e-01\n",
            "     150 | 3.54e-02 | 9.99e-01\n",
            "Lauching APGD solver...\n",
            "   it    |   obj    |   err   \n",
            "       0 | 3.55e-02 | 1.00e+00\n",
            "      10 | 3.56e-02 | 1.00e+00\n",
            "      20 | 3.56e-02 | 1.00e+00\n",
            "      30 | 3.56e-02 | 1.00e+00\n",
            "      40 | 3.56e-02 | 1.00e+00\n",
            "      50 | 3.56e-02 | 1.00e+00\n",
            "      60 | 3.56e-02 | 1.00e+00\n",
            "      70 | 3.56e-02 | 1.00e+00\n",
            "      80 | 3.56e-02 | 1.00e+00\n",
            "      90 | 3.56e-02 | 1.00e+00\n",
            "     100 | 3.56e-02 | 1.00e+00\n",
            "     110 | 3.56e-02 | 1.00e+00\n",
            "     120 | 3.56e-02 | 1.00e+00\n",
            "     130 | 3.56e-02 | 1.00e+00\n",
            "     140 | 3.56e-02 | 1.00e+00\n",
            "     150 | 3.56e-02 | 1.00e+00\n",
            "Lauching APGD solver...\n",
            "   it    |   obj    |   err   \n",
            "       0 | 3.56e-02 | 1.00e+00\n",
            "      10 | 3.56e-02 | 1.00e+00\n",
            "      20 | 3.56e-02 | 1.00e+00\n",
            "      30 | 3.56e-02 | 1.00e+00\n",
            "      40 | 3.56e-02 | 1.00e+00\n",
            "      50 | 3.56e-02 | 1.00e+00\n",
            "      60 | 3.56e-02 | 1.00e+00\n",
            "      70 | 3.56e-02 | 1.00e+00\n",
            "      80 | 3.56e-02 | 1.00e+00\n",
            "      90 | 3.56e-02 | 1.00e+00\n",
            "     100 | 3.56e-02 | 1.00e+00\n",
            "     110 | 3.56e-02 | 1.00e+00\n",
            "     120 | 3.56e-02 | 1.00e+00\n",
            "     130 | 3.56e-02 | 1.00e+00\n",
            "     140 | 3.56e-02 | 1.00e+00\n",
            "     150 | 3.56e-02 | 1.00e+00\n"
          ]
        },
        {
          "output_type": "display_data",
          "data": {
            "text/plain": [
              "<Figure size 1152x288 with 2 Axes>"
            ],
            "image/png": "[encoded data removed]"
          },
          "metadata": {
            "needs_background": "light"
          }
        }
      ]
    },
    {
      "cell_type": "markdown",
      "source": [
        "Conclusion & explanation: We can see that once the lambda value exceeds 0.01, the optimal error of our problem becomes more significant. This is due to the fact that the problem tends to minimize the norm of the weights to the maximum which generates a reduction of the weights once the lambda value is large enough. We can say that ridge regularization is less sensitive to lambda in term of error comapring to lasso, beacause it needs higher value to cancel the norm of weights as we can observe on the second figure."
      ],
      "metadata": {
        "id": "9aHhETnTH7Lb"
      }
    },
    {
      "cell_type": "markdown",
      "source": [
        "## Visualizing error for some lambda according to the number of iterations"
      ],
      "metadata": {
        "id": "W49as_PuFazg"
      }
    },
    {
      "cell_type": "markdown",
      "source": [
        "Logistic regression"
      ],
      "metadata": {
        "id": "3dVbgHJzzCXI"
      }
    },
    {
      "cell_type": "code",
      "source": [
        "n_iter = 150\n",
        "#Impact of the penalization for APGD for logistic regression\n",
        "lmbd1 = ['0.0001','0.001','0.01','0.1','1','10','100','1000']\n",
        "\n",
        "A1, b1 = simu_logreg(coefs, n_samples=1000, corr=0.4)\n",
        "L = smoothness_const_loreg(A1)\n",
        "\n",
        "\n",
        "lambd1 = APGD(x0, loss_logreg, grad_logreg, L1_norm, prox_L1, 1/L, lmbd=0.001, n_iter = n_iter,x_true=coefs, verbose=True)\n",
        "lambd2 = APGD(x0, loss_logreg, grad_logreg, L1_norm, prox_L1, 1/L, lmbd=0.01, n_iter = n_iter,x_true=coefs, verbose=True)\n",
        "lambd3 = APGD(x0, loss_logreg, grad_logreg, L1_norm, prox_L1, 1/L, lmbd=0.1, n_iter = n_iter,x_true=coefs, verbose=True)\n",
        "\n",
        "lambd4 = PGD(x0, loss_logreg, grad_logreg, L1_norm, prox_L1, 1/L, lmbd=0.001, n_iter = n_iter,x_true=coefs, verbose=True)\n",
        "lambd5 = PGD(x0, loss_logreg, grad_logreg, L1_norm, prox_L1, 1/L, lmbd=0.01, n_iter = n_iter,x_true=coefs, verbose=True)\n",
        "lambd6 = PGD(x0, loss_logreg, grad_logreg, L1_norm, prox_L1, 1/L, lmbd=0.1, n_iter = n_iter,x_true=coefs, verbose=True)\n",
        "\n",
        "fig = plt.figure(figsize=(16,6))\n",
        "ax = fig.add_subplot(1,2,1)\n",
        "plt.plot(lambd1[2], label = 'lambda = 0.001')\n",
        "plt.plot(lambd2[2], label = 'lambda = 0.01')\n",
        "plt.plot(lambd3[2], label = 'lambda = 0.1')\n",
        "plt.title('APGD for linear Logistic with L1 penalizations')\n",
        "plt.xlabel('Iterations')\n",
        "plt.ylabel('Error')\n",
        "plt.legend()\n",
        "\n",
        "ax = fig.add_subplot(1,2,2)\n",
        "plt.plot(lambd4[2], label = 'lambda = 0.001')\n",
        "plt.plot(lambd5[2], label = 'lambda = 0.01')\n",
        "plt.plot(lambd6[2], label = 'lambda = 0.1')\n",
        "plt.title('PGD for linear Logistic with L1 penalizations')\n",
        "plt.xlabel('Iterations')\n",
        "plt.ylabel('Error')\n",
        "plt.legend()\n",
        "\n",
        "plt.show()"
      ],
      "metadata": {
        "colab": {
          "base_uri": "https://localhost:8080/",
          "height": 1000
        },
        "id": "j6PzIaQTXf94",
        "outputId": "001a7bdb-fa0a-412f-df65-e6d57dd6dac1"
      },
      "execution_count": null,
      "outputs": [
        {
          "output_type": "stream",
          "name": "stdout",
          "text": [
            "Lauching APGD solver...\n",
            "   it    |   obj    |   err   \n",
            "       0 | 3.40e-02 | 9.95e-01\n",
            "      10 | 2.62e-02 | 9.25e-01\n",
            "      20 | 2.23e-02 | 9.18e-01\n",
            "      30 | 2.12e-02 | 9.90e-01\n",
            "      40 | 2.12e-02 | 1.09e+00\n",
            "      50 | 2.14e-02 | 1.19e+00\n",
            "      60 | 2.15e-02 | 1.27e+00\n",
            "      70 | 2.16e-02 | 1.32e+00\n",
            "      80 | 2.15e-02 | 1.34e+00\n",
            "      90 | 2.13e-02 | 1.35e+00\n",
            "     100 | 2.12e-02 | 1.35e+00\n",
            "     110 | 2.12e-02 | 1.35e+00\n",
            "     120 | 2.11e-02 | 1.34e+00\n",
            "     130 | 2.11e-02 | 1.33e+00\n",
            "     140 | 2.11e-02 | 1.32e+00\n",
            "     150 | 2.11e-02 | 1.31e+00\n",
            "Lauching APGD solver...\n",
            "   it    |   obj    |   err   \n",
            "       0 | 3.47e-02 | 9.99e-01\n",
            "      10 | 3.50e-02 | 9.89e-01\n",
            "      20 | 3.54e-02 | 9.78e-01\n",
            "      30 | 3.55e-02 | 9.77e-01\n",
            "      40 | 3.54e-02 | 9.80e-01\n",
            "      50 | 3.53e-02 | 9.80e-01\n",
            "      60 | 3.54e-02 | 9.79e-01\n",
            "      70 | 3.54e-02 | 9.78e-01\n",
            "      80 | 3.54e-02 | 9.79e-01\n",
            "      90 | 3.54e-02 | 9.79e-01\n",
            "     100 | 3.54e-02 | 9.79e-01\n",
            "     110 | 3.54e-02 | 9.79e-01\n",
            "     120 | 3.54e-02 | 9.79e-01\n",
            "     130 | 3.54e-02 | 9.79e-01\n",
            "     140 | 3.54e-02 | 9.79e-01\n",
            "     150 | 3.54e-02 | 9.79e-01\n",
            "Lauching APGD solver...\n",
            "   it    |   obj    |   err   \n",
            "       0 | 3.47e-02 | 1.00e+00\n",
            "      10 | 3.47e-02 | 1.00e+00\n",
            "      20 | 3.47e-02 | 1.00e+00\n",
            "      30 | 3.47e-02 | 1.00e+00\n",
            "      40 | 3.47e-02 | 1.00e+00\n",
            "      50 | 3.47e-02 | 1.00e+00\n",
            "      60 | 3.47e-02 | 1.00e+00\n",
            "      70 | 3.47e-02 | 1.00e+00\n",
            "      80 | 3.47e-02 | 1.00e+00\n",
            "      90 | 3.47e-02 | 1.00e+00\n",
            "     100 | 3.47e-02 | 1.00e+00\n",
            "     110 | 3.47e-02 | 1.00e+00\n",
            "     120 | 3.47e-02 | 1.00e+00\n",
            "     130 | 3.47e-02 | 1.00e+00\n",
            "     140 | 3.47e-02 | 1.00e+00\n",
            "     150 | 3.47e-02 | 1.00e+00\n",
            "Lauching PGDsolver...\n",
            "   it    |   obj    |   err   \n",
            "       0 | 3.40e-02 | 9.95e-01\n",
            "      10 | 2.95e-02 | 9.56e-01\n",
            "      20 | 2.73e-02 | 9.34e-01\n",
            "      30 | 2.58e-02 | 9.21e-01\n",
            "      40 | 2.48e-02 | 9.12e-01\n",
            "      50 | 2.41e-02 | 9.07e-01\n",
            "      60 | 2.35e-02 | 9.04e-01\n",
            "      70 | 2.31e-02 | 9.03e-01\n",
            "      80 | 2.28e-02 | 9.04e-01\n",
            "      90 | 2.25e-02 | 9.05e-01\n",
            "     100 | 2.22e-02 | 9.07e-01\n",
            "     110 | 2.20e-02 | 9.10e-01\n",
            "     120 | 2.18e-02 | 9.13e-01\n",
            "     130 | 2.17e-02 | 9.17e-01\n",
            "     140 | 2.16e-02 | 9.21e-01\n",
            "     150 | 2.15e-02 | 9.25e-01\n",
            "Lauching PGDsolver...\n",
            "   it    |   obj    |   err   \n",
            "       0 | 3.47e-02 | 9.99e-01\n",
            "      10 | 3.48e-02 | 9.95e-01\n",
            "      20 | 3.49e-02 | 9.91e-01\n",
            "      30 | 3.50e-02 | 9.88e-01\n",
            "      40 | 3.51e-02 | 9.86e-01\n",
            "      50 | 3.51e-02 | 9.85e-01\n",
            "      60 | 3.52e-02 | 9.84e-01\n",
            "      70 | 3.52e-02 | 9.83e-01\n",
            "      80 | 3.52e-02 | 9.82e-01\n",
            "      90 | 3.53e-02 | 9.81e-01\n",
            "     100 | 3.53e-02 | 9.81e-01\n",
            "     110 | 3.53e-02 | 9.80e-01\n",
            "     120 | 3.53e-02 | 9.80e-01\n",
            "     130 | 3.53e-02 | 9.80e-01\n",
            "     140 | 3.53e-02 | 9.80e-01\n",
            "     150 | 3.53e-02 | 9.80e-01\n",
            "Lauching PGDsolver...\n",
            "   it    |   obj    |   err   \n",
            "       0 | 3.47e-02 | 1.00e+00\n",
            "      10 | 3.47e-02 | 1.00e+00\n",
            "      20 | 3.47e-02 | 1.00e+00\n",
            "      30 | 3.47e-02 | 1.00e+00\n",
            "      40 | 3.47e-02 | 1.00e+00\n",
            "      50 | 3.47e-02 | 1.00e+00\n",
            "      60 | 3.47e-02 | 1.00e+00\n",
            "      70 | 3.47e-02 | 1.00e+00\n",
            "      80 | 3.47e-02 | 1.00e+00\n",
            "      90 | 3.47e-02 | 1.00e+00\n",
            "     100 | 3.47e-02 | 1.00e+00\n",
            "     110 | 3.47e-02 | 1.00e+00\n",
            "     120 | 3.47e-02 | 1.00e+00\n",
            "     130 | 3.47e-02 | 1.00e+00\n",
            "     140 | 3.47e-02 | 1.00e+00\n",
            "     150 | 3.47e-02 | 1.00e+00\n"
          ]
        },
        {
          "output_type": "display_data",
          "data": {
            "text/plain": [
              "<Figure size 1152x432 with 2 Axes>"
            ],
            "image/png": "[encoded data removed]"
          },
          "metadata": {
            "needs_background": "light"
          }
        }
      ]
    },
    {
      "cell_type": "code",
      "source": [
        "n_iter = 150\n",
        "#Impact of the penalization for APGD for logistic regression\n",
        "lmbd1 = ['0.0001','0.001','0.01','0.1','1','10','100','1000']\n",
        "\n",
        "A1, b1 = simu_logreg(coefs, n_samples=1000, corr=0.4)\n",
        "L = smoothness_const_loreg(A1)\n",
        "\n",
        "\n",
        "lambd1 = APGD(x0, loss_logreg, grad_logreg, L2_norm, prox_L2, 1/L, lmbd=0.01, n_iter = n_iter,x_true=coefs, verbose=True)\n",
        "lambd2 = APGD(x0, loss_logreg, grad_logreg, L2_norm, prox_L2, 1/L, lmbd=0.1, n_iter = n_iter,x_true=coefs, verbose=True)\n",
        "lambd3 = APGD(x0, loss_logreg, grad_logreg, L2_norm, prox_L2, 1/L, lmbd=1, n_iter = n_iter,x_true=coefs, verbose=True)\n",
        "\n",
        "lambd4 = PGD(x0, loss_logreg, grad_logreg, L2_norm, prox_L2, 1/L, lmbd=0.01, n_iter = n_iter,x_true=coefs, verbose=True)\n",
        "lambd5 = PGD(x0, loss_logreg, grad_logreg, L2_norm, prox_L2, 1/L, lmbd=0.1, n_iter = n_iter,x_true=coefs, verbose=True)\n",
        "lambd6 = PGD(x0, loss_logreg, grad_logreg, L2_norm, prox_L2, 1/L, lmbd=1, n_iter = n_iter,x_true=coefs, verbose=True)\n",
        "\n",
        "fig = plt.figure(figsize=(16,6))\n",
        "ax = fig.add_subplot(1,2,1)\n",
        "plt.plot(lambd1[2], label = 'lambda = 0.01')\n",
        "plt.plot(lambd2[2], label = 'lambda = 0.1')\n",
        "plt.plot(lambd3[2], label = 'lambda = 1')\n",
        "plt.title('APGD for Logistic regression with L2 penalizations')\n",
        "plt.xlabel('Iterations')\n",
        "plt.ylabel('Error')\n",
        "plt.legend()\n",
        "\n",
        "ax = fig.add_subplot(1,2,2)\n",
        "plt.plot(lambd4[2], label = 'lambda = 0.01')\n",
        "plt.plot(lambd5[2], label = 'lambda = 0.1')\n",
        "plt.plot(lambd6[2], label = 'lambda = 1')\n",
        "plt.title('PGD for Logistic regression with L2 penalizations')\n",
        "plt.xlabel('Iterations')\n",
        "plt.ylabel('Error')\n",
        "\n",
        "plt.legend()\n",
        "plt.show()"
      ],
      "metadata": {
        "colab": {
          "base_uri": "https://localhost:8080/",
          "height": 1000
        },
        "id": "MYVVa6wXfheD",
        "outputId": "c6b97f47-cc80-4e78-c1b4-d026c0ff771e"
      },
      "execution_count": null,
      "outputs": [
        {
          "output_type": "stream",
          "name": "stdout",
          "text": [
            "Lauching APGD solver...\n",
            "   it    |   obj    |   err   \n",
            "       0 | 3.31e-02 | 9.93e-01\n",
            "      10 | 1.87e-02 | 9.27e-01\n",
            "      20 | 1.31e-02 | 9.12e-01\n",
            "      30 | 1.20e-02 | 9.01e-01\n",
            "      40 | 1.27e-02 | 8.90e-01\n",
            "      50 | 1.34e-02 | 8.93e-01\n",
            "      60 | 1.33e-02 | 8.98e-01\n",
            "      70 | 1.31e-02 | 8.98e-01\n",
            "      80 | 1.29e-02 | 8.96e-01\n",
            "      90 | 1.30e-02 | 8.95e-01\n",
            "     100 | 1.31e-02 | 8.94e-01\n",
            "     110 | 1.31e-02 | 8.95e-01\n",
            "     120 | 1.30e-02 | 8.96e-01\n",
            "     130 | 1.30e-02 | 8.97e-01\n",
            "     140 | 1.31e-02 | 8.96e-01\n",
            "     150 | 1.31e-02 | 8.95e-01\n",
            "Lauching APGD solver...\n",
            "   it    |   obj    |   err   \n",
            "       0 | 3.32e-02 | 9.94e-01\n",
            "      10 | 2.58e-02 | 9.54e-01\n",
            "      20 | 2.65e-02 | 9.57e-01\n",
            "      30 | 2.63e-02 | 9.56e-01\n",
            "      40 | 2.63e-02 | 9.57e-01\n",
            "      50 | 2.63e-02 | 9.56e-01\n",
            "      60 | 2.63e-02 | 9.57e-01\n",
            "      70 | 2.63e-02 | 9.56e-01\n",
            "      80 | 2.63e-02 | 9.57e-01\n",
            "      90 | 2.63e-02 | 9.56e-01\n",
            "     100 | 2.63e-02 | 9.57e-01\n",
            "     110 | 2.63e-02 | 9.57e-01\n",
            "     120 | 2.63e-02 | 9.57e-01\n",
            "     130 | 2.63e-02 | 9.57e-01\n",
            "     140 | 2.63e-02 | 9.57e-01\n",
            "     150 | 2.63e-02 | 9.57e-01\n",
            "Lauching APGD solver...\n",
            "   it    |   obj    |   err   \n",
            "       0 | 3.41e-02 | 9.97e-01\n",
            "      10 | 3.42e-02 | 9.93e-01\n",
            "      20 | 3.42e-02 | 9.93e-01\n",
            "      30 | 3.42e-02 | 9.93e-01\n",
            "      40 | 3.42e-02 | 9.93e-01\n",
            "      50 | 3.42e-02 | 9.93e-01\n",
            "      60 | 3.42e-02 | 9.93e-01\n",
            "      70 | 3.42e-02 | 9.93e-01\n",
            "      80 | 3.42e-02 | 9.93e-01\n",
            "      90 | 3.42e-02 | 9.93e-01\n",
            "     100 | 3.42e-02 | 9.93e-01\n",
            "     110 | 3.42e-02 | 9.93e-01\n",
            "     120 | 3.42e-02 | 9.93e-01\n",
            "     130 | 3.42e-02 | 9.93e-01\n",
            "     140 | 3.42e-02 | 9.93e-01\n",
            "     150 | 3.42e-02 | 9.93e-01\n",
            "Lauching PGDsolver...\n",
            "   it    |   obj    |   err   \n",
            "       0 | 3.31e-02 | 9.93e-01\n",
            "      10 | 2.44e-02 | 9.53e-01\n",
            "      20 | 2.08e-02 | 9.34e-01\n",
            "      30 | 1.88e-02 | 9.23e-01\n",
            "      40 | 1.74e-02 | 9.16e-01\n",
            "      50 | 1.65e-02 | 9.12e-01\n",
            "      60 | 1.58e-02 | 9.09e-01\n",
            "      70 | 1.53e-02 | 9.07e-01\n",
            "      80 | 1.48e-02 | 9.05e-01\n",
            "      90 | 1.45e-02 | 9.04e-01\n",
            "     100 | 1.43e-02 | 9.03e-01\n",
            "     110 | 1.41e-02 | 9.02e-01\n",
            "     120 | 1.39e-02 | 9.01e-01\n",
            "     130 | 1.38e-02 | 9.00e-01\n",
            "     140 | 1.37e-02 | 9.00e-01\n",
            "     150 | 1.36e-02 | 8.99e-01\n",
            "Lauching PGDsolver...\n",
            "   it    |   obj    |   err   \n",
            "       0 | 3.32e-02 | 9.94e-01\n",
            "      10 | 2.77e-02 | 9.66e-01\n",
            "      20 | 2.67e-02 | 9.60e-01\n",
            "      30 | 2.64e-02 | 9.58e-01\n",
            "      40 | 2.63e-02 | 9.57e-01\n",
            "      50 | 2.63e-02 | 9.57e-01\n",
            "      60 | 2.63e-02 | 9.57e-01\n",
            "      70 | 2.63e-02 | 9.57e-01\n",
            "      80 | 2.63e-02 | 9.57e-01\n",
            "      90 | 2.63e-02 | 9.57e-01\n",
            "     100 | 2.63e-02 | 9.57e-01\n",
            "     110 | 2.63e-02 | 9.57e-01\n",
            "     120 | 2.63e-02 | 9.57e-01\n",
            "     130 | 2.63e-02 | 9.57e-01\n",
            "     140 | 2.63e-02 | 9.57e-01\n",
            "     150 | 2.63e-02 | 9.57e-01\n",
            "Lauching PGDsolver...\n",
            "   it    |   obj    |   err   \n",
            "       0 | 3.41e-02 | 9.97e-01\n",
            "      10 | 3.42e-02 | 9.93e-01\n",
            "      20 | 3.42e-02 | 9.93e-01\n",
            "      30 | 3.42e-02 | 9.93e-01\n",
            "      40 | 3.42e-02 | 9.93e-01\n",
            "      50 | 3.42e-02 | 9.93e-01\n",
            "      60 | 3.42e-02 | 9.93e-01\n",
            "      70 | 3.42e-02 | 9.93e-01\n",
            "      80 | 3.42e-02 | 9.93e-01\n",
            "      90 | 3.42e-02 | 9.93e-01\n",
            "     100 | 3.42e-02 | 9.93e-01\n",
            "     110 | 3.42e-02 | 9.93e-01\n",
            "     120 | 3.42e-02 | 9.93e-01\n",
            "     130 | 3.42e-02 | 9.93e-01\n",
            "     140 | 3.42e-02 | 9.93e-01\n",
            "     150 | 3.42e-02 | 9.93e-01\n"
          ]
        },
        {
          "output_type": "display_data",
          "data": {
            "text/plain": [
              "<Figure size 1152x432 with 2 Axes>"
            ],
            "image/png": "[encoded data removed]"
          },
          "metadata": {
            "needs_background": "light"
          }
        }
      ]
    },
    {
      "cell_type": "markdown",
      "source": [
        "Linear regression"
      ],
      "metadata": {
        "id": "H5iVsJddBJ5-"
      }
    },
    {
      "cell_type": "code",
      "source": [
        "n_iter = 150\n",
        "#Impact of the penalization for APGD for logistic regression\n",
        "lmbd1 = ['0.0001','0.001','0.01','0.1','1','10','100','1000']\n",
        "\n",
        "A1, b1 = simu_linreg(coefs, n_samples=1000, corr=0.4)\n",
        "L = smoothness_const_linreg(A1)\n",
        "\n",
        "\n",
        "lambd1 = APGD(x0, loss_linreg, grad_linreg, L1_norm, prox_L1, 1/L, lmbd=0.001, n_iter = n_iter,x_true=coefs, verbose=True)\n",
        "lambd2 = APGD(x0, loss_linreg, grad_linreg, L1_norm, prox_L1, 1/L, lmbd=0.01, n_iter = n_iter,x_true=coefs, verbose=True)\n",
        "lambd3 = APGD(x0, loss_linreg, grad_linreg, L1_norm, prox_L1, 1/L, lmbd=0.1, n_iter = n_iter,x_true=coefs, verbose=True)\n",
        "\n",
        "lambd4 = PGD(x0, loss_linreg, grad_linreg, L1_norm, prox_L1, 1/L, lmbd=0.001, n_iter = n_iter,x_true=coefs, verbose=True)\n",
        "lambd5 = PGD(x0, loss_linreg, grad_linreg, L1_norm, prox_L1, 1/L, lmbd=0.01, n_iter = n_iter,x_true=coefs, verbose=True)\n",
        "lambd6 = PGD(x0, loss_linreg, grad_linreg, L1_norm, prox_L1, 1/L, lmbd=0.1, n_iter = n_iter,x_true=coefs, verbose=True)\n",
        "\n",
        "fig = plt.figure(figsize=(16,6))\n",
        "ax = fig.add_subplot(1,2,1)\n",
        "plt.plot(lambd1[2], label = 'lambda = 0.001')\n",
        "plt.plot(lambd2[2], label = 'lambda = 0.01')\n",
        "plt.plot(lambd3[2], label = 'lambda = 0.1')\n",
        "plt.title('APGD for linear Logistic with L1 penalizations')\n",
        "plt.xlabel('Iterations')\n",
        "plt.ylabel('Error')\n",
        "\n",
        "ax = fig.add_subplot(1,2,2)\n",
        "plt.plot(lambd4[2], label = 'lambda = 0.001')\n",
        "plt.plot(lambd5[2], label = 'lambda = 0.01')\n",
        "plt.plot(lambd6[2], label = 'lambda = 0.1')\n",
        "plt.title('PGD for linear Logistic with L1 penalizations')\n",
        "plt.xlabel('Iterations')\n",
        "plt.ylabel('Error')\n",
        "\n",
        "plt.legend()\n",
        "plt.show()"
      ],
      "metadata": {
        "colab": {
          "base_uri": "https://localhost:8080/",
          "height": 1000
        },
        "id": "aI1bW-q3AQyr",
        "outputId": "2287637d-429b-41e4-e43f-661845e72179"
      },
      "execution_count": null,
      "outputs": [
        {
          "output_type": "stream",
          "name": "stdout",
          "text": [
            "Lauching APGD solver...\n",
            "   it    |   obj    |   err   \n",
            "       0 | 4.31e-01 | 9.38e-01\n",
            "      10 | 3.27e-01 | 6.69e-01\n",
            "      20 | 3.27e-01 | 6.89e-01\n",
            "      30 | 3.27e-01 | 6.88e-01\n",
            "      40 | 3.27e-01 | 6.87e-01\n",
            "      50 | 3.27e-01 | 6.87e-01\n",
            "      60 | 3.27e-01 | 6.87e-01\n",
            "      70 | 3.27e-01 | 6.87e-01\n",
            "      80 | 3.27e-01 | 6.87e-01\n",
            "      90 | 3.27e-01 | 6.87e-01\n",
            "     100 | 3.27e-01 | 6.87e-01\n",
            "     110 | 3.27e-01 | 6.87e-01\n",
            "     120 | 3.27e-01 | 6.87e-01\n",
            "     130 | 3.27e-01 | 6.87e-01\n",
            "     140 | 3.27e-01 | 6.87e-01\n",
            "     150 | 3.27e-01 | 6.87e-01\n",
            "Lauching APGD solver...\n",
            "   it    |   obj    |   err   \n",
            "       0 | 4.51e-01 | 9.51e-01\n",
            "      10 | 3.63e-01 | 7.44e-01\n",
            "      20 | 3.64e-01 | 7.59e-01\n",
            "      30 | 3.64e-01 | 7.58e-01\n",
            "      40 | 3.64e-01 | 7.58e-01\n",
            "      50 | 3.64e-01 | 7.58e-01\n",
            "      60 | 3.64e-01 | 7.58e-01\n",
            "      70 | 3.64e-01 | 7.58e-01\n",
            "      80 | 3.64e-01 | 7.58e-01\n",
            "      90 | 3.64e-01 | 7.58e-01\n",
            "     100 | 3.64e-01 | 7.58e-01\n",
            "     110 | 3.64e-01 | 7.58e-01\n",
            "     120 | 3.64e-01 | 7.58e-01\n",
            "     130 | 3.64e-01 | 7.58e-01\n",
            "     140 | 3.64e-01 | 7.58e-01\n",
            "     150 | 3.64e-01 | 7.58e-01\n",
            "Lauching APGD solver...\n",
            "   it    |   obj    |   err   \n",
            "       0 | 4.99e-01 | 9.99e-01\n",
            "      10 | 4.98e-01 | 9.98e-01\n",
            "      20 | 4.98e-01 | 9.98e-01\n",
            "      30 | 4.98e-01 | 9.98e-01\n",
            "      40 | 4.98e-01 | 9.98e-01\n",
            "      50 | 4.98e-01 | 9.98e-01\n",
            "      60 | 4.98e-01 | 9.98e-01\n",
            "      70 | 4.98e-01 | 9.98e-01\n",
            "      80 | 4.98e-01 | 9.98e-01\n",
            "      90 | 4.98e-01 | 9.98e-01\n",
            "     100 | 4.98e-01 | 9.98e-01\n",
            "     110 | 4.98e-01 | 9.98e-01\n",
            "     120 | 4.98e-01 | 9.98e-01\n",
            "     130 | 4.98e-01 | 9.98e-01\n",
            "     140 | 4.98e-01 | 9.98e-01\n",
            "     150 | 4.98e-01 | 9.98e-01\n",
            "Lauching PGDsolver...\n",
            "   it    |   obj    |   err   \n",
            "       0 | 4.31e-01 | 9.38e-01\n",
            "      10 | 3.29e-01 | 7.22e-01\n",
            "      20 | 3.27e-01 | 6.93e-01\n",
            "      30 | 3.27e-01 | 6.88e-01\n",
            "      40 | 3.27e-01 | 6.88e-01\n",
            "      50 | 3.27e-01 | 6.87e-01\n",
            "      60 | 3.27e-01 | 6.87e-01\n",
            "      70 | 3.27e-01 | 6.87e-01\n",
            "      80 | 3.27e-01 | 6.87e-01\n",
            "      90 | 3.27e-01 | 6.87e-01\n",
            "     100 | 3.27e-01 | 6.87e-01\n",
            "     110 | 3.27e-01 | 6.87e-01\n",
            "     120 | 3.27e-01 | 6.87e-01\n",
            "     130 | 3.27e-01 | 6.87e-01\n",
            "     140 | 3.27e-01 | 6.87e-01\n",
            "     150 | 3.27e-01 | 6.87e-01\n",
            "Lauching PGDsolver...\n",
            "   it    |   obj    |   err   \n",
            "       0 | 4.51e-01 | 9.51e-01\n",
            "      10 | 3.69e-01 | 7.84e-01\n",
            "      20 | 3.65e-01 | 7.62e-01\n",
            "      30 | 3.64e-01 | 7.58e-01\n",
            "      40 | 3.64e-01 | 7.58e-01\n",
            "      50 | 3.64e-01 | 7.58e-01\n",
            "      60 | 3.64e-01 | 7.58e-01\n",
            "      70 | 3.64e-01 | 7.58e-01\n",
            "      80 | 3.64e-01 | 7.58e-01\n",
            "      90 | 3.64e-01 | 7.58e-01\n",
            "     100 | 3.64e-01 | 7.58e-01\n",
            "     110 | 3.64e-01 | 7.58e-01\n",
            "     120 | 3.64e-01 | 7.58e-01\n",
            "     130 | 3.64e-01 | 7.58e-01\n",
            "     140 | 3.64e-01 | 7.58e-01\n",
            "     150 | 3.64e-01 | 7.58e-01\n",
            "Lauching PGDsolver...\n",
            "   it    |   obj    |   err   \n",
            "       0 | 4.99e-01 | 9.99e-01\n",
            "      10 | 4.98e-01 | 9.98e-01\n",
            "      20 | 4.98e-01 | 9.98e-01\n",
            "      30 | 4.98e-01 | 9.98e-01\n",
            "      40 | 4.98e-01 | 9.98e-01\n",
            "      50 | 4.98e-01 | 9.98e-01\n",
            "      60 | 4.98e-01 | 9.98e-01\n",
            "      70 | 4.98e-01 | 9.98e-01\n",
            "      80 | 4.98e-01 | 9.98e-01\n",
            "      90 | 4.98e-01 | 9.98e-01\n",
            "     100 | 4.98e-01 | 9.98e-01\n",
            "     110 | 4.98e-01 | 9.98e-01\n",
            "     120 | 4.98e-01 | 9.98e-01\n",
            "     130 | 4.98e-01 | 9.98e-01\n",
            "     140 | 4.98e-01 | 9.98e-01\n",
            "     150 | 4.98e-01 | 9.98e-01\n"
          ]
        },
        {
          "output_type": "display_data",
          "data": {
            "text/plain": [
              "<Figure size 1152x432 with 2 Axes>"
            ],
            "image/png": "[encoded data removed]"
          },
          "metadata": {
            "needs_background": "light"
          }
        }
      ]
    },
    {
      "cell_type": "code",
      "source": [
        "n_iter = 150\n",
        "#Impact of the L2 penalization for APGD for linear regression \n",
        " \n",
        "A0, b0 = simu_linreg(coefs, n_samples=1000, corr=0.4)\n",
        "L = smoothness_const_linreg(A0)\n",
        "\n",
        "\n",
        "lambd1 = APGD(x0, loss_linreg, grad_linreg, L2_norm, prox_L2, 1/L, lmbd=0.001, n_iter = n_iter,x_true=coefs, verbose=True)\n",
        "lambd2 = APGD(x0, loss_linreg, grad_linreg, L2_norm, prox_L2, 1/L, lmbd=0.01, n_iter = n_iter,x_true=coefs, verbose=True)\n",
        "lambd3 = APGD(x0, loss_linreg, grad_linreg, L2_norm, prox_L2, 1/L, lmbd=0.1, n_iter = n_iter,x_true=coefs, verbose=True)\n",
        "\n",
        "lambd4 = PGD(x0, loss_linreg, grad_linreg, L2_norm, prox_L2, 1/L, lmbd=0.001, n_iter = n_iter,x_true=coefs, verbose=True)\n",
        "lambd5 = PGD(x0, loss_linreg, grad_linreg, L2_norm, prox_L2, 1/L, lmbd=0.01, n_iter = n_iter,x_true=coefs, verbose=True)\n",
        "lambd6 = PGD(x0, loss_linreg, grad_linreg, L2_norm, prox_L2, 1/L, lmbd=0.1, n_iter = n_iter,x_true=coefs, verbose=True)\n",
        "\n",
        "x = np.arange(len(lambd1[1]))\n",
        "fig = plt.figure(figsize=(16,6))\n",
        "ax = fig.add_subplot(1,2,1)\n",
        "plt.plot(x, lambd1[2], label = 'lambda = 0.01')\n",
        "plt.plot(x, lambd2[2], label = 'lambda = 0.1')\n",
        "plt.plot(x, lambd3[2], label = 'lambda = 1')\n",
        "plt.title('APGD for linear regression with L2 penalizations')\n",
        "plt.xlabel('Iterations')\n",
        "plt.ylabel('Error')\n",
        "plt.legend()\n",
        "\n",
        "\n",
        "ax = fig.add_subplot(1,2,2)\n",
        "plt.plot(x, lambd4[2], label = 'lambda = 0.01')\n",
        "plt.plot(x, lambd5[2], label = 'lambda = 0.1')\n",
        "plt.plot(x, lambd6[2], label = 'lambda = 1')\n",
        "plt.title('PGD for linear regression with L2 penalizations')\n",
        "plt.xlabel('Iterations')\n",
        "plt.ylabel('Error')\n",
        "\n",
        "plt.legend()\n",
        "plt.show()"
      ],
      "metadata": {
        "colab": {
          "base_uri": "https://localhost:8080/",
          "height": 1000
        },
        "id": "AUau78P9exFn",
        "outputId": "4dc016aa-16ab-4af3-9daf-65e1ad80cc31"
      },
      "execution_count": null,
      "outputs": [
        {
          "output_type": "stream",
          "name": "stdout",
          "text": [
            "Lauching APGD solver...\n",
            "   it    |   obj    |   err   \n",
            "       0 | 1.18e+00 | 8.43e-01\n",
            "      10 | 4.74e-01 | 1.38e-01\n",
            "      20 | 4.69e-01 | 1.30e-01\n",
            "      30 | 4.69e-01 | 1.26e-01\n",
            "      40 | 4.69e-01 | 1.26e-01\n",
            "      50 | 4.69e-01 | 1.26e-01\n",
            "      60 | 4.69e-01 | 1.26e-01\n",
            "      70 | 4.69e-01 | 1.26e-01\n",
            "      80 | 4.69e-01 | 1.26e-01\n",
            "      90 | 4.69e-01 | 1.26e-01\n",
            "     100 | 4.69e-01 | 1.26e-01\n",
            "     110 | 4.69e-01 | 1.26e-01\n",
            "     120 | 4.69e-01 | 1.26e-01\n",
            "     130 | 4.69e-01 | 1.26e-01\n",
            "     140 | 4.69e-01 | 1.26e-01\n",
            "     150 | 4.69e-01 | 1.26e-01\n",
            "Lauching APGD solver...\n",
            "   it    |   obj    |   err   \n",
            "       0 | 1.18e+00 | 8.44e-01\n",
            "      10 | 4.69e-01 | 1.24e-01\n",
            "      20 | 4.75e-01 | 1.53e-01\n",
            "      30 | 4.73e-01 | 1.43e-01\n",
            "      40 | 4.73e-01 | 1.44e-01\n",
            "      50 | 4.73e-01 | 1.44e-01\n",
            "      60 | 4.73e-01 | 1.44e-01\n",
            "      70 | 4.73e-01 | 1.44e-01\n",
            "      80 | 4.73e-01 | 1.44e-01\n",
            "      90 | 4.73e-01 | 1.44e-01\n",
            "     100 | 4.73e-01 | 1.44e-01\n",
            "     110 | 4.73e-01 | 1.44e-01\n",
            "     120 | 4.73e-01 | 1.44e-01\n",
            "     130 | 4.73e-01 | 1.44e-01\n",
            "     140 | 4.73e-01 | 1.44e-01\n",
            "     150 | 4.73e-01 | 1.44e-01\n",
            "Lauching APGD solver...\n",
            "   it    |   obj    |   err   \n",
            "       0 | 1.21e+00 | 8.56e-01\n",
            "      10 | 6.21e-01 | 4.03e-01\n",
            "      20 | 6.31e-01 | 4.18e-01\n",
            "      30 | 6.33e-01 | 4.21e-01\n",
            "      40 | 6.33e-01 | 4.20e-01\n",
            "      50 | 6.33e-01 | 4.20e-01\n",
            "      60 | 6.33e-01 | 4.20e-01\n",
            "      70 | 6.33e-01 | 4.20e-01\n",
            "      80 | 6.33e-01 | 4.20e-01\n",
            "      90 | 6.33e-01 | 4.20e-01\n",
            "     100 | 6.33e-01 | 4.20e-01\n",
            "     110 | 6.33e-01 | 4.20e-01\n",
            "     120 | 6.33e-01 | 4.20e-01\n",
            "     130 | 6.33e-01 | 4.20e-01\n",
            "     140 | 6.33e-01 | 4.20e-01\n",
            "     150 | 6.33e-01 | 4.20e-01\n",
            "Lauching PGDsolver...\n",
            "   it    |   obj    |   err   \n",
            "       0 | 1.18e+00 | 8.43e-01\n",
            "      10 | 4.99e-01 | 2.27e-01\n",
            "      20 | 4.71e-01 | 1.36e-01\n",
            "      30 | 4.69e-01 | 1.27e-01\n",
            "      40 | 4.69e-01 | 1.26e-01\n",
            "      50 | 4.69e-01 | 1.26e-01\n",
            "      60 | 4.69e-01 | 1.26e-01\n",
            "      70 | 4.69e-01 | 1.26e-01\n",
            "      80 | 4.69e-01 | 1.26e-01\n",
            "      90 | 4.69e-01 | 1.26e-01\n",
            "     100 | 4.69e-01 | 1.26e-01\n",
            "     110 | 4.69e-01 | 1.26e-01\n",
            "     120 | 4.69e-01 | 1.26e-01\n",
            "     130 | 4.69e-01 | 1.26e-01\n",
            "     140 | 4.69e-01 | 1.26e-01\n",
            "     150 | 4.69e-01 | 1.26e-01\n",
            "Lauching PGDsolver...\n",
            "   it    |   obj    |   err   \n",
            "       0 | 1.18e+00 | 8.44e-01\n",
            "      10 | 5.10e-01 | 2.52e-01\n",
            "      20 | 4.77e-01 | 1.61e-01\n",
            "      30 | 4.74e-01 | 1.47e-01\n",
            "      40 | 4.73e-01 | 1.45e-01\n",
            "      50 | 4.73e-01 | 1.44e-01\n",
            "      60 | 4.73e-01 | 1.44e-01\n",
            "      70 | 4.73e-01 | 1.44e-01\n",
            "      80 | 4.73e-01 | 1.44e-01\n",
            "      90 | 4.73e-01 | 1.44e-01\n",
            "     100 | 4.73e-01 | 1.44e-01\n",
            "     110 | 4.73e-01 | 1.44e-01\n",
            "     120 | 4.73e-01 | 1.44e-01\n",
            "     130 | 4.73e-01 | 1.44e-01\n",
            "     140 | 4.73e-01 | 1.44e-01\n",
            "     150 | 4.73e-01 | 1.44e-01\n",
            "Lauching PGDsolver...\n",
            "   it    |   obj    |   err   \n",
            "       0 | 1.21e+00 | 8.56e-01\n",
            "      10 | 6.60e-01 | 4.54e-01\n",
            "      20 | 6.35e-01 | 4.23e-01\n",
            "      30 | 6.33e-01 | 4.20e-01\n",
            "      40 | 6.33e-01 | 4.20e-01\n",
            "      50 | 6.33e-01 | 4.20e-01\n",
            "      60 | 6.33e-01 | 4.20e-01\n",
            "      70 | 6.33e-01 | 4.20e-01\n",
            "      80 | 6.33e-01 | 4.20e-01\n",
            "      90 | 6.33e-01 | 4.20e-01\n",
            "     100 | 6.33e-01 | 4.20e-01\n",
            "     110 | 6.33e-01 | 4.20e-01\n",
            "     120 | 6.33e-01 | 4.20e-01\n",
            "     130 | 6.33e-01 | 4.20e-01\n",
            "     140 | 6.33e-01 | 4.20e-01\n",
            "     150 | 6.33e-01 | 4.20e-01\n"
          ]
        },
        {
          "output_type": "display_data",
          "data": {
            "text/plain": [
              "<Figure size 1152x432 with 2 Axes>"
            ],
            "image/png": "[encoded data removed]"
          },
          "metadata": {
            "needs_background": "light"
          }
        }
      ]
    }
  ],
  "metadata": {
    "anaconda-cloud": {},
    "interpreter": {
      "hash": "ddeb6e512e1ef22841d21b181b577eb7b6fd883489eaad141b98586281502ceb"
    },
    "kernelspec": {
      "display_name": "Python 3 (ipykernel)",
      "language": "python",
      "name": "python3"
    },
    "language_info": {
      "codemirror_mode": {
        "name": "ipython",
        "version": 3
      },
      "file_extension": ".py",
      "mimetype": "text/x-python",
      "name": "python",
      "nbconvert_exporter": "python",
      "pygments_lexer": "ipython3",
      "version": "3.9.13"
    },
    "colab": {
      "provenance": [],
      "collapsed_sections": []
    }
  },
  "nbformat": 4,
  "nbformat_minor": 0
}